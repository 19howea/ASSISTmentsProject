{
 "cells": [
  {
   "cell_type": "markdown",
   "metadata": {},
   "source": [
    "# Install Library"
   ]
  },
  {
   "cell_type": "code",
   "execution_count": 1,
   "metadata": {},
   "outputs": [
    {
     "name": "stdout",
     "output_type": "stream",
     "text": [
      "Requirement already satisfied: numpy in /Library/Frameworks/Python.framework/Versions/3.6/lib/python3.6/site-packages (1.15.1)\n",
      "Requirement already satisfied: pandas in /Library/Frameworks/Python.framework/Versions/3.6/lib/python3.6/site-packages (0.23.4)\n",
      "Requirement already satisfied: matplotlib in /Library/Frameworks/Python.framework/Versions/3.6/lib/python3.6/site-packages (2.2.3)\n",
      "Requirement already satisfied: tqdm in /Library/Frameworks/Python.framework/Versions/3.6/lib/python3.6/site-packages (4.26.0)\n",
      "Requirement already satisfied: python-dateutil>=2.5.0 in /Library/Frameworks/Python.framework/Versions/3.6/lib/python3.6/site-packages (from pandas) (2.7.3)\n",
      "Requirement already satisfied: pytz>=2011k in /Library/Frameworks/Python.framework/Versions/3.6/lib/python3.6/site-packages (from pandas) (2018.5)\n",
      "Requirement already satisfied: cycler>=0.10 in /Library/Frameworks/Python.framework/Versions/3.6/lib/python3.6/site-packages (from matplotlib) (0.10.0)\n",
      "Requirement already satisfied: pyparsing!=2.0.4,!=2.1.2,!=2.1.6,>=2.0.1 in /Library/Frameworks/Python.framework/Versions/3.6/lib/python3.6/site-packages (from matplotlib) (2.2.0)\n",
      "Requirement already satisfied: kiwisolver>=1.0.1 in /Library/Frameworks/Python.framework/Versions/3.6/lib/python3.6/site-packages (from matplotlib) (1.0.1)\n",
      "Requirement already satisfied: six>=1.10 in /Library/Frameworks/Python.framework/Versions/3.6/lib/python3.6/site-packages (from matplotlib) (1.11.0)\n",
      "Requirement already satisfied: setuptools in /Library/Frameworks/Python.framework/Versions/3.6/lib/python3.6/site-packages (from kiwisolver>=1.0.1->matplotlib) (28.8.0)\n"
     ]
    }
   ],
   "source": [
    "!pip install numpy pandas matplotlib tqdm"
   ]
  },
  {
   "cell_type": "markdown",
   "metadata": {},
   "source": [
    "# Import"
   ]
  },
  {
   "cell_type": "code",
   "execution_count": 2,
   "metadata": {},
   "outputs": [],
   "source": [
    "import numpy as np \n",
    "import pandas as pd"
   ]
  },
  {
   "cell_type": "code",
   "execution_count": 3,
   "metadata": {},
   "outputs": [],
   "source": [
    "#load dataset\n",
    "df = pd.read_csv(\"/Users/andrewhowe/Documents/Phong_PCLA/ASSISTmentProject/Dataset/2012-2013-data-with-predictions-4-final-small.csv\",low_memory=False)"
   ]
  },
  {
   "cell_type": "code",
   "execution_count": 4,
   "metadata": {},
   "outputs": [
    {
     "data": {
      "text/html": [
       "<div>\n",
       "<style scoped>\n",
       "    .dataframe tbody tr th:only-of-type {\n",
       "        vertical-align: middle;\n",
       "    }\n",
       "\n",
       "    .dataframe tbody tr th {\n",
       "        vertical-align: top;\n",
       "    }\n",
       "\n",
       "    .dataframe thead th {\n",
       "        text-align: right;\n",
       "    }\n",
       "</style>\n",
       "<table border=\"1\" class=\"dataframe\">\n",
       "  <thead>\n",
       "    <tr style=\"text-align: right;\">\n",
       "      <th></th>\n",
       "      <th>Unnamed: 0</th>\n",
       "      <th>problem_log_id</th>\n",
       "      <th>skill</th>\n",
       "      <th>problem_id</th>\n",
       "      <th>user_id</th>\n",
       "      <th>assignment_id</th>\n",
       "      <th>assistment_id</th>\n",
       "      <th>start_time</th>\n",
       "      <th>end_time</th>\n",
       "      <th>problem_type</th>\n",
       "      <th>...</th>\n",
       "      <th>overlap_time</th>\n",
       "      <th>template_id</th>\n",
       "      <th>answer_id</th>\n",
       "      <th>answer_text</th>\n",
       "      <th>first_action</th>\n",
       "      <th>problemlogid</th>\n",
       "      <th>Average_confidence(FRUSTRATED)</th>\n",
       "      <th>Average_confidence(CONFUSED)</th>\n",
       "      <th>Average_confidence(CONCENTRATING)</th>\n",
       "      <th>Average_confidence(BORED)</th>\n",
       "    </tr>\n",
       "  </thead>\n",
       "  <tbody>\n",
       "    <tr>\n",
       "      <th>0</th>\n",
       "      <td>1934459</td>\n",
       "      <td>142682351</td>\n",
       "      <td>NaN</td>\n",
       "      <td>662668</td>\n",
       "      <td>191280</td>\n",
       "      <td>750770</td>\n",
       "      <td>417348</td>\n",
       "      <td>2013-03-21 13:13:26</td>\n",
       "      <td>2013-03-21 13:13:33.713</td>\n",
       "      <td>choose_1</td>\n",
       "      <td>...</td>\n",
       "      <td>7702</td>\n",
       "      <td>417348</td>\n",
       "      <td>NaN</td>\n",
       "      <td>hunting</td>\n",
       "      <td>0</td>\n",
       "      <td>142682351</td>\n",
       "      <td>0.361323</td>\n",
       "      <td>0.000000</td>\n",
       "      <td>0.766925</td>\n",
       "      <td>0.000000</td>\n",
       "    </tr>\n",
       "    <tr>\n",
       "      <th>1</th>\n",
       "      <td>828989</td>\n",
       "      <td>144979964</td>\n",
       "      <td>Polynomial Factors</td>\n",
       "      <td>134804</td>\n",
       "      <td>176639</td>\n",
       "      <td>794836</td>\n",
       "      <td>72576</td>\n",
       "      <td>2013-05-20 11:48:52</td>\n",
       "      <td>2013-05-20 11:49:51.823</td>\n",
       "      <td>algebra</td>\n",
       "      <td>...</td>\n",
       "      <td>37126</td>\n",
       "      <td>61641</td>\n",
       "      <td>NaN</td>\n",
       "      <td>x+2</td>\n",
       "      <td>0</td>\n",
       "      <td>144979964</td>\n",
       "      <td>0.413033</td>\n",
       "      <td>0.000000</td>\n",
       "      <td>0.766925</td>\n",
       "      <td>0.306590</td>\n",
       "    </tr>\n",
       "    <tr>\n",
       "      <th>2</th>\n",
       "      <td>3076134</td>\n",
       "      <td>137173833</td>\n",
       "      <td>Order of Operations +,-,/,* () positive reals</td>\n",
       "      <td>547854</td>\n",
       "      <td>126455</td>\n",
       "      <td>559982</td>\n",
       "      <td>334628</td>\n",
       "      <td>2012-09-12 06:34:31</td>\n",
       "      <td>2012-09-12 06:34:35.233</td>\n",
       "      <td>algebra</td>\n",
       "      <td>...</td>\n",
       "      <td>4202</td>\n",
       "      <td>334628</td>\n",
       "      <td>NaN</td>\n",
       "      <td>4</td>\n",
       "      <td>0</td>\n",
       "      <td>137173833</td>\n",
       "      <td>0.361323</td>\n",
       "      <td>0.000000</td>\n",
       "      <td>0.766925</td>\n",
       "      <td>0.000000</td>\n",
       "    </tr>\n",
       "    <tr>\n",
       "      <th>3</th>\n",
       "      <td>4960611</td>\n",
       "      <td>140148312</td>\n",
       "      <td>Order of Operations All</td>\n",
       "      <td>85025</td>\n",
       "      <td>200134</td>\n",
       "      <td>639336</td>\n",
       "      <td>46733</td>\n",
       "      <td>2012-12-11 09:18:33</td>\n",
       "      <td>2012-12-11 09:18:45.977</td>\n",
       "      <td>algebra</td>\n",
       "      <td>...</td>\n",
       "      <td>12961</td>\n",
       "      <td>29981</td>\n",
       "      <td>NaN</td>\n",
       "      <td>29</td>\n",
       "      <td>0</td>\n",
       "      <td>140148312</td>\n",
       "      <td>0.361323</td>\n",
       "      <td>0.978947</td>\n",
       "      <td>0.336529</td>\n",
       "      <td>0.442968</td>\n",
       "    </tr>\n",
       "    <tr>\n",
       "      <th>4</th>\n",
       "      <td>225578</td>\n",
       "      <td>143207673</td>\n",
       "      <td>NaN</td>\n",
       "      <td>464908</td>\n",
       "      <td>212331</td>\n",
       "      <td>759232</td>\n",
       "      <td>272447</td>\n",
       "      <td>2013-04-08 15:07:31</td>\n",
       "      <td>2013-04-08 15:08:10.018</td>\n",
       "      <td>choose_1</td>\n",
       "      <td>...</td>\n",
       "      <td>38948</td>\n",
       "      <td>272447</td>\n",
       "      <td>NaN</td>\n",
       "      <td>1 - P(Type II Error)</td>\n",
       "      <td>0</td>\n",
       "      <td>143207673</td>\n",
       "      <td>0.361323</td>\n",
       "      <td>0.000000</td>\n",
       "      <td>0.766925</td>\n",
       "      <td>0.000000</td>\n",
       "    </tr>\n",
       "  </tbody>\n",
       "</table>\n",
       "<p>5 rows × 36 columns</p>\n",
       "</div>"
      ],
      "text/plain": [
       "   Unnamed: 0  problem_log_id                                          skill  \\\n",
       "0     1934459       142682351                                            NaN   \n",
       "1      828989       144979964                             Polynomial Factors   \n",
       "2     3076134       137173833  Order of Operations +,-,/,* () positive reals   \n",
       "3     4960611       140148312                        Order of Operations All   \n",
       "4      225578       143207673                                            NaN   \n",
       "\n",
       "   problem_id  user_id  assignment_id  assistment_id           start_time  \\\n",
       "0      662668   191280         750770         417348  2013-03-21 13:13:26   \n",
       "1      134804   176639         794836          72576  2013-05-20 11:48:52   \n",
       "2      547854   126455         559982         334628  2012-09-12 06:34:31   \n",
       "3       85025   200134         639336          46733  2012-12-11 09:18:33   \n",
       "4      464908   212331         759232         272447  2013-04-08 15:07:31   \n",
       "\n",
       "                  end_time problem_type            ...              \\\n",
       "0  2013-03-21 13:13:33.713     choose_1            ...               \n",
       "1  2013-05-20 11:49:51.823      algebra            ...               \n",
       "2  2012-09-12 06:34:35.233      algebra            ...               \n",
       "3  2012-12-11 09:18:45.977      algebra            ...               \n",
       "4  2013-04-08 15:08:10.018     choose_1            ...               \n",
       "\n",
       "   overlap_time  template_id  answer_id           answer_text first_action  \\\n",
       "0          7702       417348        NaN               hunting            0   \n",
       "1         37126        61641        NaN                   x+2            0   \n",
       "2          4202       334628        NaN                     4            0   \n",
       "3         12961        29981        NaN                    29            0   \n",
       "4         38948       272447        NaN  1 - P(Type II Error)            0   \n",
       "\n",
       "   problemlogid  Average_confidence(FRUSTRATED) Average_confidence(CONFUSED)  \\\n",
       "0     142682351                        0.361323                     0.000000   \n",
       "1     144979964                        0.413033                     0.000000   \n",
       "2     137173833                        0.361323                     0.000000   \n",
       "3     140148312                        0.361323                     0.978947   \n",
       "4     143207673                        0.361323                     0.000000   \n",
       "\n",
       "   Average_confidence(CONCENTRATING)  Average_confidence(BORED)  \n",
       "0                           0.766925                   0.000000  \n",
       "1                           0.766925                   0.306590  \n",
       "2                           0.766925                   0.000000  \n",
       "3                           0.336529                   0.442968  \n",
       "4                           0.766925                   0.000000  \n",
       "\n",
       "[5 rows x 36 columns]"
      ]
     },
     "execution_count": 4,
     "metadata": {},
     "output_type": "execute_result"
    }
   ],
   "source": [
    "df.head()"
   ]
  },
  {
   "cell_type": "code",
   "execution_count": 5,
   "metadata": {},
   "outputs": [
    {
     "data": {
      "text/html": [
       "<div>\n",
       "<style scoped>\n",
       "    .dataframe tbody tr th:only-of-type {\n",
       "        vertical-align: middle;\n",
       "    }\n",
       "\n",
       "    .dataframe tbody tr th {\n",
       "        vertical-align: top;\n",
       "    }\n",
       "\n",
       "    .dataframe thead th {\n",
       "        text-align: right;\n",
       "    }\n",
       "</style>\n",
       "<table border=\"1\" class=\"dataframe\">\n",
       "  <thead>\n",
       "    <tr style=\"text-align: right;\">\n",
       "      <th></th>\n",
       "      <th>Unnamed: 0</th>\n",
       "      <th>problem_log_id</th>\n",
       "      <th>problem_id</th>\n",
       "      <th>user_id</th>\n",
       "      <th>assignment_id</th>\n",
       "      <th>assistment_id</th>\n",
       "      <th>original</th>\n",
       "      <th>correct</th>\n",
       "      <th>bottom_hint</th>\n",
       "      <th>hint_count</th>\n",
       "      <th>...</th>\n",
       "      <th>school_id</th>\n",
       "      <th>overlap_time</th>\n",
       "      <th>template_id</th>\n",
       "      <th>answer_id</th>\n",
       "      <th>first_action</th>\n",
       "      <th>problemlogid</th>\n",
       "      <th>Average_confidence(FRUSTRATED)</th>\n",
       "      <th>Average_confidence(CONFUSED)</th>\n",
       "      <th>Average_confidence(CONCENTRATING)</th>\n",
       "      <th>Average_confidence(BORED)</th>\n",
       "    </tr>\n",
       "  </thead>\n",
       "  <tbody>\n",
       "    <tr>\n",
       "      <th>count</th>\n",
       "      <td>1.000000e+05</td>\n",
       "      <td>1.000000e+05</td>\n",
       "      <td>100000.000000</td>\n",
       "      <td>100000.000000</td>\n",
       "      <td>100000.000000</td>\n",
       "      <td>100000.000000</td>\n",
       "      <td>100000.000000</td>\n",
       "      <td>100000.00000</td>\n",
       "      <td>99029.000000</td>\n",
       "      <td>100000.000000</td>\n",
       "      <td>...</td>\n",
       "      <td>99998.000000</td>\n",
       "      <td>1.000000e+05</td>\n",
       "      <td>100000.000000</td>\n",
       "      <td>1.310000e+02</td>\n",
       "      <td>100000.00000</td>\n",
       "      <td>1.000000e+05</td>\n",
       "      <td>100000.000000</td>\n",
       "      <td>100000.000000</td>\n",
       "      <td>100000.000000</td>\n",
       "      <td>100000.000000</td>\n",
       "    </tr>\n",
       "    <tr>\n",
       "      <th>mean</th>\n",
       "      <td>3.060314e+06</td>\n",
       "      <td>1.414921e+08</td>\n",
       "      <td>367916.740490</td>\n",
       "      <td>177182.341320</td>\n",
       "      <td>677038.725430</td>\n",
       "      <td>219879.642890</td>\n",
       "      <td>0.950110</td>\n",
       "      <td>0.67580</td>\n",
       "      <td>0.120278</td>\n",
       "      <td>0.339160</td>\n",
       "      <td>...</td>\n",
       "      <td>6938.851007</td>\n",
       "      <td>4.871557e+04</td>\n",
       "      <td>208620.214870</td>\n",
       "      <td>4.943771e+05</td>\n",
       "      <td>0.06115</td>\n",
       "      <td>1.414921e+08</td>\n",
       "      <td>0.389123</td>\n",
       "      <td>0.044031</td>\n",
       "      <td>0.682719</td>\n",
       "      <td>0.255543</td>\n",
       "    </tr>\n",
       "    <tr>\n",
       "      <th>std</th>\n",
       "      <td>1.768400e+06</td>\n",
       "      <td>2.690561e+06</td>\n",
       "      <td>219704.841499</td>\n",
       "      <td>31660.907685</td>\n",
       "      <td>94188.666154</td>\n",
       "      <td>139430.426288</td>\n",
       "      <td>0.217719</td>\n",
       "      <td>0.46786</td>\n",
       "      <td>0.325288</td>\n",
       "      <td>0.988605</td>\n",
       "      <td>...</td>\n",
       "      <td>3318.638191</td>\n",
       "      <td>9.035051e+04</td>\n",
       "      <td>145802.934238</td>\n",
       "      <td>3.760727e+05</td>\n",
       "      <td>0.26251</td>\n",
       "      <td>2.690561e+06</td>\n",
       "      <td>0.102165</td>\n",
       "      <td>0.190694</td>\n",
       "      <td>0.171215</td>\n",
       "      <td>0.285350</td>\n",
       "    </tr>\n",
       "    <tr>\n",
       "      <th>min</th>\n",
       "      <td>6.200000e+01</td>\n",
       "      <td>1.368432e+08</td>\n",
       "      <td>13.000000</td>\n",
       "      <td>61394.000000</td>\n",
       "      <td>267520.000000</td>\n",
       "      <td>13.000000</td>\n",
       "      <td>0.000000</td>\n",
       "      <td>0.00000</td>\n",
       "      <td>0.000000</td>\n",
       "      <td>0.000000</td>\n",
       "      <td>...</td>\n",
       "      <td>1.000000</td>\n",
       "      <td>2.390000e+02</td>\n",
       "      <td>13.000000</td>\n",
       "      <td>1.000000e+00</td>\n",
       "      <td>0.00000</td>\n",
       "      <td>1.368432e+08</td>\n",
       "      <td>0.361323</td>\n",
       "      <td>0.000000</td>\n",
       "      <td>0.170732</td>\n",
       "      <td>0.000000</td>\n",
       "    </tr>\n",
       "    <tr>\n",
       "      <th>25%</th>\n",
       "      <td>1.531890e+06</td>\n",
       "      <td>1.391667e+08</td>\n",
       "      <td>128259.750000</td>\n",
       "      <td>172027.000000</td>\n",
       "      <td>586047.000000</td>\n",
       "      <td>68789.500000</td>\n",
       "      <td>1.000000</td>\n",
       "      <td>0.00000</td>\n",
       "      <td>0.000000</td>\n",
       "      <td>0.000000</td>\n",
       "      <td>...</td>\n",
       "      <td>5260.000000</td>\n",
       "      <td>9.484000e+03</td>\n",
       "      <td>52497.000000</td>\n",
       "      <td>1.310345e+05</td>\n",
       "      <td>0.00000</td>\n",
       "      <td>1.391667e+08</td>\n",
       "      <td>0.361323</td>\n",
       "      <td>0.000000</td>\n",
       "      <td>0.766925</td>\n",
       "      <td>0.000000</td>\n",
       "    </tr>\n",
       "    <tr>\n",
       "      <th>50%</th>\n",
       "      <td>3.058905e+06</td>\n",
       "      <td>1.414739e+08</td>\n",
       "      <td>416809.000000</td>\n",
       "      <td>179190.000000</td>\n",
       "      <td>678400.000000</td>\n",
       "      <td>239918.000000</td>\n",
       "      <td>1.000000</td>\n",
       "      <td>1.00000</td>\n",
       "      <td>0.000000</td>\n",
       "      <td>0.000000</td>\n",
       "      <td>...</td>\n",
       "      <td>5978.000000</td>\n",
       "      <td>2.239200e+04</td>\n",
       "      <td>239538.000000</td>\n",
       "      <td>3.956780e+05</td>\n",
       "      <td>0.00000</td>\n",
       "      <td>1.414739e+08</td>\n",
       "      <td>0.361323</td>\n",
       "      <td>0.000000</td>\n",
       "      <td>0.766925</td>\n",
       "      <td>0.221484</td>\n",
       "    </tr>\n",
       "    <tr>\n",
       "      <th>75%</th>\n",
       "      <td>4.589200e+06</td>\n",
       "      <td>1.438234e+08</td>\n",
       "      <td>564200.750000</td>\n",
       "      <td>197395.000000</td>\n",
       "      <td>766768.750000</td>\n",
       "      <td>346677.000000</td>\n",
       "      <td>1.000000</td>\n",
       "      <td>1.00000</td>\n",
       "      <td>0.000000</td>\n",
       "      <td>0.000000</td>\n",
       "      <td>...</td>\n",
       "      <td>9446.000000</td>\n",
       "      <td>5.503425e+04</td>\n",
       "      <td>343460.000000</td>\n",
       "      <td>9.386540e+05</td>\n",
       "      <td>0.00000</td>\n",
       "      <td>1.438234e+08</td>\n",
       "      <td>0.361323</td>\n",
       "      <td>0.000000</td>\n",
       "      <td>0.766925</td>\n",
       "      <td>0.442968</td>\n",
       "    </tr>\n",
       "    <tr>\n",
       "      <th>max</th>\n",
       "      <td>6.123203e+06</td>\n",
       "      <td>1.461395e+08</td>\n",
       "      <td>767081.000000</td>\n",
       "      <td>228213.000000</td>\n",
       "      <td>833014.000000</td>\n",
       "      <td>492551.000000</td>\n",
       "      <td>1.000000</td>\n",
       "      <td>1.00000</td>\n",
       "      <td>1.000000</td>\n",
       "      <td>10.000000</td>\n",
       "      <td>...</td>\n",
       "      <td>12421.000000</td>\n",
       "      <td>1.008000e+07</td>\n",
       "      <td>492551.000000</td>\n",
       "      <td>1.133329e+06</td>\n",
       "      <td>2.00000</td>\n",
       "      <td>1.461395e+08</td>\n",
       "      <td>0.867133</td>\n",
       "      <td>1.000000</td>\n",
       "      <td>0.766925</td>\n",
       "      <td>1.000000</td>\n",
       "    </tr>\n",
       "  </tbody>\n",
       "</table>\n",
       "<p>8 rows × 28 columns</p>\n",
       "</div>"
      ],
      "text/plain": [
       "         Unnamed: 0  problem_log_id     problem_id        user_id  \\\n",
       "count  1.000000e+05    1.000000e+05  100000.000000  100000.000000   \n",
       "mean   3.060314e+06    1.414921e+08  367916.740490  177182.341320   \n",
       "std    1.768400e+06    2.690561e+06  219704.841499   31660.907685   \n",
       "min    6.200000e+01    1.368432e+08      13.000000   61394.000000   \n",
       "25%    1.531890e+06    1.391667e+08  128259.750000  172027.000000   \n",
       "50%    3.058905e+06    1.414739e+08  416809.000000  179190.000000   \n",
       "75%    4.589200e+06    1.438234e+08  564200.750000  197395.000000   \n",
       "max    6.123203e+06    1.461395e+08  767081.000000  228213.000000   \n",
       "\n",
       "       assignment_id  assistment_id       original       correct  \\\n",
       "count  100000.000000  100000.000000  100000.000000  100000.00000   \n",
       "mean   677038.725430  219879.642890       0.950110       0.67580   \n",
       "std     94188.666154  139430.426288       0.217719       0.46786   \n",
       "min    267520.000000      13.000000       0.000000       0.00000   \n",
       "25%    586047.000000   68789.500000       1.000000       0.00000   \n",
       "50%    678400.000000  239918.000000       1.000000       1.00000   \n",
       "75%    766768.750000  346677.000000       1.000000       1.00000   \n",
       "max    833014.000000  492551.000000       1.000000       1.00000   \n",
       "\n",
       "        bottom_hint     hint_count            ...                 school_id  \\\n",
       "count  99029.000000  100000.000000            ...              99998.000000   \n",
       "mean       0.120278       0.339160            ...               6938.851007   \n",
       "std        0.325288       0.988605            ...               3318.638191   \n",
       "min        0.000000       0.000000            ...                  1.000000   \n",
       "25%        0.000000       0.000000            ...               5260.000000   \n",
       "50%        0.000000       0.000000            ...               5978.000000   \n",
       "75%        0.000000       0.000000            ...               9446.000000   \n",
       "max        1.000000      10.000000            ...              12421.000000   \n",
       "\n",
       "       overlap_time    template_id     answer_id  first_action  problemlogid  \\\n",
       "count  1.000000e+05  100000.000000  1.310000e+02  100000.00000  1.000000e+05   \n",
       "mean   4.871557e+04  208620.214870  4.943771e+05       0.06115  1.414921e+08   \n",
       "std    9.035051e+04  145802.934238  3.760727e+05       0.26251  2.690561e+06   \n",
       "min    2.390000e+02      13.000000  1.000000e+00       0.00000  1.368432e+08   \n",
       "25%    9.484000e+03   52497.000000  1.310345e+05       0.00000  1.391667e+08   \n",
       "50%    2.239200e+04  239538.000000  3.956780e+05       0.00000  1.414739e+08   \n",
       "75%    5.503425e+04  343460.000000  9.386540e+05       0.00000  1.438234e+08   \n",
       "max    1.008000e+07  492551.000000  1.133329e+06       2.00000  1.461395e+08   \n",
       "\n",
       "       Average_confidence(FRUSTRATED)  Average_confidence(CONFUSED)  \\\n",
       "count                   100000.000000                 100000.000000   \n",
       "mean                         0.389123                      0.044031   \n",
       "std                          0.102165                      0.190694   \n",
       "min                          0.361323                      0.000000   \n",
       "25%                          0.361323                      0.000000   \n",
       "50%                          0.361323                      0.000000   \n",
       "75%                          0.361323                      0.000000   \n",
       "max                          0.867133                      1.000000   \n",
       "\n",
       "       Average_confidence(CONCENTRATING)  Average_confidence(BORED)  \n",
       "count                      100000.000000              100000.000000  \n",
       "mean                            0.682719                   0.255543  \n",
       "std                             0.171215                   0.285350  \n",
       "min                             0.170732                   0.000000  \n",
       "25%                             0.766925                   0.000000  \n",
       "50%                             0.766925                   0.221484  \n",
       "75%                             0.766925                   0.442968  \n",
       "max                             0.766925                   1.000000  \n",
       "\n",
       "[8 rows x 28 columns]"
      ]
     },
     "execution_count": 5,
     "metadata": {},
     "output_type": "execute_result"
    }
   ],
   "source": [
    "df.describe()"
   ]
  },
  {
   "cell_type": "code",
   "execution_count": 6,
   "metadata": {},
   "outputs": [
    {
     "data": {
      "text/plain": [
       "Index(['Unnamed: 0', 'problem_log_id', 'skill', 'problem_id', 'user_id',\n",
       "       'assignment_id', 'assistment_id', 'start_time', 'end_time',\n",
       "       'problem_type', 'original', 'correct', 'bottom_hint', 'hint_count',\n",
       "       'actions', 'attempt_count', 'ms_first_response', 'tutor_mode',\n",
       "       'sequence_id', 'student_class_id', 'position', 'type',\n",
       "       'base_sequence_id', 'skill_id', 'teacher_id', 'school_id',\n",
       "       'overlap_time', 'template_id', 'answer_id', 'answer_text',\n",
       "       'first_action', 'problemlogid', 'Average_confidence(FRUSTRATED)',\n",
       "       'Average_confidence(CONFUSED)', 'Average_confidence(CONCENTRATING)',\n",
       "       'Average_confidence(BORED)'],\n",
       "      dtype='object')"
      ]
     },
     "execution_count": 6,
     "metadata": {},
     "output_type": "execute_result"
    }
   ],
   "source": [
    "df.columns"
   ]
  },
  {
   "cell_type": "code",
   "execution_count": 7,
   "metadata": {},
   "outputs": [],
   "source": [
    "import time\n",
    "import datetime\n",
    "from tqdm import tqdm"
   ]
  },
  {
   "cell_type": "markdown",
   "metadata": {},
   "source": [
    "Calculate the time taken per question in seconds. Each row is a question, which has start time and end time."
   ]
  },
  {
   "cell_type": "code",
   "execution_count": 8,
   "metadata": {},
   "outputs": [
    {
     "data": {
      "text/plain": [
       "0    2013-03-21 13:13:26\n",
       "1    2013-05-20 11:48:52\n",
       "2    2012-09-12 06:34:31\n",
       "3    2012-12-11 09:18:33\n",
       "4    2013-04-08 15:07:31\n",
       "Name: start_time, dtype: object"
      ]
     },
     "execution_count": 8,
     "metadata": {},
     "output_type": "execute_result"
    }
   ],
   "source": [
    "start_time = df[\"start_time\"]\n",
    "start_time.head()"
   ]
  },
  {
   "cell_type": "code",
   "execution_count": 9,
   "metadata": {},
   "outputs": [
    {
     "data": {
      "text/plain": [
       "0    2013-03-21 13:13:33.713\n",
       "1    2013-05-20 11:49:51.823\n",
       "2    2012-09-12 06:34:35.233\n",
       "3    2012-12-11 09:18:45.977\n",
       "4    2013-04-08 15:08:10.018\n",
       "Name: end_time, dtype: object"
      ]
     },
     "execution_count": 9,
     "metadata": {},
     "output_type": "execute_result"
    }
   ],
   "source": [
    "end_time = df[\"end_time\"]\n",
    "end_time.head()"
   ]
  },
  {
   "cell_type": "markdown",
   "metadata": {},
   "source": [
    "Convert the start time and end time to Unix to calculate."
   ]
  },
  {
   "cell_type": "code",
   "execution_count": 10,
   "metadata": {},
   "outputs": [
    {
     "name": "stderr",
     "output_type": "stream",
     "text": [
      "100%|██████████| 100000/100000 [00:03<00:00, 25098.11it/s]\n"
     ]
    },
    {
     "data": {
      "text/plain": [
       "array([1.36383921e+09, 1.36901813e+09, 1.34739927e+09, 1.35518511e+09,\n",
       "       1.36540125e+09])"
      ]
     },
     "execution_count": 10,
     "metadata": {},
     "output_type": "execute_result"
    }
   ],
   "source": [
    "start_time_unix = []\n",
    "for i in tqdm(range(len(start_time))):\n",
    "    try:\n",
    "        start_time_unix.append(time.mktime(datetime.datetime.strptime(start_time[i], \"%Y-%m-%d %H:%M:%S\").timetuple()))\n",
    "    except:\n",
    "        start_time_unix.append(np.NaN)\n",
    "start_time_unix = np.array(start_time_unix)\n",
    "start_time_unix[0:5]"
   ]
  },
  {
   "cell_type": "code",
   "execution_count": 11,
   "metadata": {},
   "outputs": [
    {
     "name": "stderr",
     "output_type": "stream",
     "text": [
      "100%|██████████| 100000/100000 [00:04<00:00, 23874.16it/s]\n"
     ]
    },
    {
     "data": {
      "text/plain": [
       "array([1.36383921e+09, 1.36901819e+09, 1.34739928e+09, 1.35518512e+09,\n",
       "       1.36540129e+09])"
      ]
     },
     "execution_count": 11,
     "metadata": {},
     "output_type": "execute_result"
    }
   ],
   "source": [
    "end_time_unix = []\n",
    "for i in tqdm(range(len(end_time))):\n",
    "    try:\n",
    "        end_time_unix.append(time.mktime(datetime.datetime.strptime(end_time[i], \"%Y-%m-%d %H:%M:%S.%f\").timetuple()))\n",
    "    except:\n",
    "        end_time_unix.append(np.NaN)\n",
    "end_time_unix = np.array(end_time_unix)\n",
    "end_time_unix[:5]"
   ]
  },
  {
   "cell_type": "code",
   "execution_count": 12,
   "metadata": {},
   "outputs": [],
   "source": [
    "question_time = end_time_unix - start_time_unix"
   ]
  },
  {
   "cell_type": "code",
   "execution_count": 13,
   "metadata": {},
   "outputs": [],
   "source": [
    "df[\"question_time\"] = question_time"
   ]
  },
  {
   "cell_type": "markdown",
   "metadata": {},
   "source": [
    "Clean the data with question time greater than 0, and less than 5 mins"
   ]
  },
  {
   "cell_type": "code",
   "execution_count": 14,
   "metadata": {},
   "outputs": [],
   "source": [
    "df = df[df[\"question_time\"] > 0] # clean all the data with question time <=0"
   ]
  },
  {
   "cell_type": "code",
   "execution_count": 15,
   "metadata": {},
   "outputs": [],
   "source": [
    "df = df[df[\"question_time\"] < 300 ] # clean all the data with question time >300"
   ]
  },
  {
   "cell_type": "code",
   "execution_count": 16,
   "metadata": {},
   "outputs": [
    {
     "data": {
      "text/plain": [
       "(95246, 37)"
      ]
     },
     "execution_count": 16,
     "metadata": {},
     "output_type": "execute_result"
    }
   ],
   "source": [
    "df.shape"
   ]
  },
  {
   "cell_type": "markdown",
   "metadata": {},
   "source": [
    "Try to find total session time.\n",
    "A session is defined by a specific user_id answering multiple questions on the same date. "
   ]
  },
  {
   "cell_type": "code",
   "execution_count": 17,
   "metadata": {},
   "outputs": [],
   "source": [
    "start_date = []\n",
    "start_time = df[\"start_time\"]\n",
    "for i in range(len(start_time)):\n",
    "    start_date.append(start_time.iloc[i].split(\" \")[0])"
   ]
  },
  {
   "cell_type": "code",
   "execution_count": 18,
   "metadata": {},
   "outputs": [],
   "source": [
    "df[\"start_date\"] = start_date"
   ]
  },
  {
   "cell_type": "code",
   "execution_count": 19,
   "metadata": {},
   "outputs": [
    {
     "data": {
      "text/html": [
       "<div>\n",
       "<style scoped>\n",
       "    .dataframe tbody tr th:only-of-type {\n",
       "        vertical-align: middle;\n",
       "    }\n",
       "\n",
       "    .dataframe tbody tr th {\n",
       "        vertical-align: top;\n",
       "    }\n",
       "\n",
       "    .dataframe thead th {\n",
       "        text-align: right;\n",
       "    }\n",
       "</style>\n",
       "<table border=\"1\" class=\"dataframe\">\n",
       "  <thead>\n",
       "    <tr style=\"text-align: right;\">\n",
       "      <th></th>\n",
       "      <th>user_id</th>\n",
       "      <th>start_date</th>\n",
       "      <th>question_time</th>\n",
       "      <th>Average_confidence(FRUSTRATED)</th>\n",
       "      <th>Average_confidence(CONFUSED)</th>\n",
       "      <th>Average_confidence(CONCENTRATING)</th>\n",
       "      <th>Average_confidence(BORED)</th>\n",
       "      <th>ms_first_response</th>\n",
       "      <th>hint_count</th>\n",
       "      <th>actions</th>\n",
       "    </tr>\n",
       "  </thead>\n",
       "  <tbody>\n",
       "    <tr>\n",
       "      <th>0</th>\n",
       "      <td>191280</td>\n",
       "      <td>2013-03-21</td>\n",
       "      <td>7.0</td>\n",
       "      <td>0.361323</td>\n",
       "      <td>0.000000</td>\n",
       "      <td>0.766925</td>\n",
       "      <td>0.000000</td>\n",
       "      <td>7702</td>\n",
       "      <td>0</td>\n",
       "      <td>--- \\n- - start\\n  - 1363886006860\\n  - \"15752...</td>\n",
       "    </tr>\n",
       "    <tr>\n",
       "      <th>1</th>\n",
       "      <td>176639</td>\n",
       "      <td>2013-05-20</td>\n",
       "      <td>59.0</td>\n",
       "      <td>0.413033</td>\n",
       "      <td>0.000000</td>\n",
       "      <td>0.766925</td>\n",
       "      <td>0.306590</td>\n",
       "      <td>37126</td>\n",
       "      <td>5</td>\n",
       "      <td>--- \\n- - start\\n  - 1369064932485\\n  - \"18426...</td>\n",
       "    </tr>\n",
       "    <tr>\n",
       "      <th>2</th>\n",
       "      <td>126455</td>\n",
       "      <td>2012-09-12</td>\n",
       "      <td>4.0</td>\n",
       "      <td>0.361323</td>\n",
       "      <td>0.000000</td>\n",
       "      <td>0.766925</td>\n",
       "      <td>0.000000</td>\n",
       "      <td>4202</td>\n",
       "      <td>0</td>\n",
       "      <td>--- \\n- - start\\n  - 1347446071864\\n  - \"93194...</td>\n",
       "    </tr>\n",
       "    <tr>\n",
       "      <th>3</th>\n",
       "      <td>200134</td>\n",
       "      <td>2012-12-11</td>\n",
       "      <td>12.0</td>\n",
       "      <td>0.361323</td>\n",
       "      <td>0.978947</td>\n",
       "      <td>0.336529</td>\n",
       "      <td>0.442968</td>\n",
       "      <td>12961</td>\n",
       "      <td>0</td>\n",
       "      <td>--- \\n- - start\\n  - 1355235513383\\n  - \"71770...</td>\n",
       "    </tr>\n",
       "    <tr>\n",
       "      <th>4</th>\n",
       "      <td>212331</td>\n",
       "      <td>2013-04-08</td>\n",
       "      <td>39.0</td>\n",
       "      <td>0.361323</td>\n",
       "      <td>0.000000</td>\n",
       "      <td>0.766925</td>\n",
       "      <td>0.000000</td>\n",
       "      <td>38948</td>\n",
       "      <td>0</td>\n",
       "      <td>--- \\n- - start\\n  - 1365448051062\\n  - \"82882...</td>\n",
       "    </tr>\n",
       "  </tbody>\n",
       "</table>\n",
       "</div>"
      ],
      "text/plain": [
       "   user_id  start_date  question_time  Average_confidence(FRUSTRATED)  \\\n",
       "0   191280  2013-03-21            7.0                        0.361323   \n",
       "1   176639  2013-05-20           59.0                        0.413033   \n",
       "2   126455  2012-09-12            4.0                        0.361323   \n",
       "3   200134  2012-12-11           12.0                        0.361323   \n",
       "4   212331  2013-04-08           39.0                        0.361323   \n",
       "\n",
       "   Average_confidence(CONFUSED)  Average_confidence(CONCENTRATING)  \\\n",
       "0                      0.000000                           0.766925   \n",
       "1                      0.000000                           0.766925   \n",
       "2                      0.000000                           0.766925   \n",
       "3                      0.978947                           0.336529   \n",
       "4                      0.000000                           0.766925   \n",
       "\n",
       "   Average_confidence(BORED)  ms_first_response  hint_count  \\\n",
       "0                   0.000000               7702           0   \n",
       "1                   0.306590              37126           5   \n",
       "2                   0.000000               4202           0   \n",
       "3                   0.442968              12961           0   \n",
       "4                   0.000000              38948           0   \n",
       "\n",
       "                                             actions  \n",
       "0  --- \\n- - start\\n  - 1363886006860\\n  - \"15752...  \n",
       "1  --- \\n- - start\\n  - 1369064932485\\n  - \"18426...  \n",
       "2  --- \\n- - start\\n  - 1347446071864\\n  - \"93194...  \n",
       "3  --- \\n- - start\\n  - 1355235513383\\n  - \"71770...  \n",
       "4  --- \\n- - start\\n  - 1365448051062\\n  - \"82882...  "
      ]
     },
     "execution_count": 19,
     "metadata": {},
     "output_type": "execute_result"
    }
   ],
   "source": [
    "df_small = df [[\"user_id\", \"start_date\", \"question_time\",\"Average_confidence(FRUSTRATED)\",\n",
    "       \"Average_confidence(CONFUSED)\", \"Average_confidence(CONCENTRATING)\",\n",
    "       \"Average_confidence(BORED)\", 'ms_first_response', 'hint_count', 'actions' ]]\n",
    "df_small.head()"
   ]
  },
  {
   "cell_type": "code",
   "execution_count": 20,
   "metadata": {},
   "outputs": [
    {
     "data": {
      "text/plain": [
       "user_id  start_date\n",
       "61394    2012-09-16      4.0\n",
       "         2012-09-25      4.0\n",
       "         2012-10-09     37.0\n",
       "         2012-10-15     11.0\n",
       "         2012-11-10     20.0\n",
       "         2012-12-02     70.0\n",
       "         2012-12-10     41.0\n",
       "         2013-01-04      6.0\n",
       "         2013-01-11    221.0\n",
       "         2013-05-21     12.0\n",
       "         2013-08-20     53.0\n",
       "74601    2012-12-10     31.0\n",
       "         2012-12-17     64.0\n",
       "         2013-01-29     15.0\n",
       "         2013-03-26     22.0\n",
       "Name: question_time, dtype: float64"
      ]
     },
     "execution_count": 20,
     "metadata": {},
     "output_type": "execute_result"
    }
   ],
   "source": [
    "session = df_small.groupby([\"user_id\",\"start_date\"])[\"question_time\"].sum()\n",
    "session.head(15)"
   ]
  },
  {
   "cell_type": "code",
   "execution_count": 21,
   "metadata": {},
   "outputs": [
    {
     "data": {
      "text/html": [
       "<div>\n",
       "<style scoped>\n",
       "    .dataframe tbody tr th:only-of-type {\n",
       "        vertical-align: middle;\n",
       "    }\n",
       "\n",
       "    .dataframe tbody tr th {\n",
       "        vertical-align: top;\n",
       "    }\n",
       "\n",
       "    .dataframe thead th {\n",
       "        text-align: right;\n",
       "    }\n",
       "</style>\n",
       "<table border=\"1\" class=\"dataframe\">\n",
       "  <thead>\n",
       "    <tr style=\"text-align: right;\">\n",
       "      <th></th>\n",
       "      <th>user_id</th>\n",
       "      <th>start_date</th>\n",
       "      <th>question_time</th>\n",
       "    </tr>\n",
       "  </thead>\n",
       "  <tbody>\n",
       "    <tr>\n",
       "      <th>0</th>\n",
       "      <td>61394</td>\n",
       "      <td>2012-09-16</td>\n",
       "      <td>4.0</td>\n",
       "    </tr>\n",
       "    <tr>\n",
       "      <th>1</th>\n",
       "      <td>61394</td>\n",
       "      <td>2012-09-25</td>\n",
       "      <td>4.0</td>\n",
       "    </tr>\n",
       "    <tr>\n",
       "      <th>2</th>\n",
       "      <td>61394</td>\n",
       "      <td>2012-10-09</td>\n",
       "      <td>37.0</td>\n",
       "    </tr>\n",
       "    <tr>\n",
       "      <th>3</th>\n",
       "      <td>61394</td>\n",
       "      <td>2012-10-15</td>\n",
       "      <td>11.0</td>\n",
       "    </tr>\n",
       "    <tr>\n",
       "      <th>4</th>\n",
       "      <td>61394</td>\n",
       "      <td>2012-11-10</td>\n",
       "      <td>20.0</td>\n",
       "    </tr>\n",
       "  </tbody>\n",
       "</table>\n",
       "</div>"
      ],
      "text/plain": [
       "   user_id  start_date  question_time\n",
       "0    61394  2012-09-16            4.0\n",
       "1    61394  2012-09-25            4.0\n",
       "2    61394  2012-10-09           37.0\n",
       "3    61394  2012-10-15           11.0\n",
       "4    61394  2012-11-10           20.0"
      ]
     },
     "execution_count": 21,
     "metadata": {},
     "output_type": "execute_result"
    }
   ],
   "source": [
    "session_df = session.to_frame()\n",
    "session_df.reset_index(inplace=True)\n",
    "session_df.head(5)"
   ]
  },
  {
   "cell_type": "code",
   "execution_count": 22,
   "metadata": {},
   "outputs": [
    {
     "data": {
      "text/plain": [
       "(76937, 3)"
      ]
     },
     "execution_count": 22,
     "metadata": {},
     "output_type": "execute_result"
    }
   ],
   "source": [
    "session_df.shape"
   ]
  },
  {
   "cell_type": "markdown",
   "metadata": {},
   "source": [
    "Clean sessions to be 15 minutes at least but cap sessions at an hour."
   ]
  },
  {
   "cell_type": "code",
   "execution_count": 23,
   "metadata": {},
   "outputs": [
    {
     "data": {
      "text/plain": [
       "(76937, 3)"
      ]
     },
     "execution_count": 23,
     "metadata": {},
     "output_type": "execute_result"
    }
   ],
   "source": [
    "session_df = session_df[session_df[\"question_time\"] < 3600 ]\n",
    "session_df.shape"
   ]
  },
  {
   "cell_type": "code",
   "execution_count": 24,
   "metadata": {},
   "outputs": [
    {
     "data": {
      "text/plain": [
       "(24099, 3)"
      ]
     },
     "execution_count": 24,
     "metadata": {},
     "output_type": "execute_result"
    }
   ],
   "source": [
    "session_df = session_df[session_df[\"question_time\"] > 60 ]\n",
    "session_df.shape"
   ]
  },
  {
   "cell_type": "code",
   "execution_count": 25,
   "metadata": {},
   "outputs": [
    {
     "data": {
      "text/html": [
       "<div>\n",
       "<style scoped>\n",
       "    .dataframe tbody tr th:only-of-type {\n",
       "        vertical-align: middle;\n",
       "    }\n",
       "\n",
       "    .dataframe tbody tr th {\n",
       "        vertical-align: top;\n",
       "    }\n",
       "\n",
       "    .dataframe thead th {\n",
       "        text-align: right;\n",
       "    }\n",
       "</style>\n",
       "<table border=\"1\" class=\"dataframe\">\n",
       "  <thead>\n",
       "    <tr style=\"text-align: right;\">\n",
       "      <th></th>\n",
       "      <th>user_id</th>\n",
       "      <th>start_date</th>\n",
       "      <th>question_time</th>\n",
       "    </tr>\n",
       "  </thead>\n",
       "  <tbody>\n",
       "    <tr>\n",
       "      <th>5</th>\n",
       "      <td>61394</td>\n",
       "      <td>2012-12-02</td>\n",
       "      <td>70.0</td>\n",
       "    </tr>\n",
       "    <tr>\n",
       "      <th>8</th>\n",
       "      <td>61394</td>\n",
       "      <td>2013-01-11</td>\n",
       "      <td>221.0</td>\n",
       "    </tr>\n",
       "    <tr>\n",
       "      <th>12</th>\n",
       "      <td>74601</td>\n",
       "      <td>2012-12-17</td>\n",
       "      <td>64.0</td>\n",
       "    </tr>\n",
       "    <tr>\n",
       "      <th>20</th>\n",
       "      <td>75241</td>\n",
       "      <td>2012-12-17</td>\n",
       "      <td>160.0</td>\n",
       "    </tr>\n",
       "    <tr>\n",
       "      <th>23</th>\n",
       "      <td>76592</td>\n",
       "      <td>2012-10-12</td>\n",
       "      <td>81.0</td>\n",
       "    </tr>\n",
       "  </tbody>\n",
       "</table>\n",
       "</div>"
      ],
      "text/plain": [
       "    user_id  start_date  question_time\n",
       "5     61394  2012-12-02           70.0\n",
       "8     61394  2013-01-11          221.0\n",
       "12    74601  2012-12-17           64.0\n",
       "20    75241  2012-12-17          160.0\n",
       "23    76592  2012-10-12           81.0"
      ]
     },
     "execution_count": 25,
     "metadata": {},
     "output_type": "execute_result"
    }
   ],
   "source": [
    "session_df.head()"
   ]
  },
  {
   "cell_type": "code",
   "execution_count": 26,
   "metadata": {},
   "outputs": [
    {
     "data": {
      "text/html": [
       "<div>\n",
       "<style scoped>\n",
       "    .dataframe tbody tr th:only-of-type {\n",
       "        vertical-align: middle;\n",
       "    }\n",
       "\n",
       "    .dataframe tbody tr th {\n",
       "        vertical-align: top;\n",
       "    }\n",
       "\n",
       "    .dataframe thead th {\n",
       "        text-align: right;\n",
       "    }\n",
       "</style>\n",
       "<table border=\"1\" class=\"dataframe\">\n",
       "  <thead>\n",
       "    <tr style=\"text-align: right;\">\n",
       "      <th></th>\n",
       "      <th>user_id</th>\n",
       "      <th>start_date</th>\n",
       "      <th>question_time</th>\n",
       "    </tr>\n",
       "  </thead>\n",
       "  <tbody>\n",
       "    <tr>\n",
       "      <th>0</th>\n",
       "      <td>61394</td>\n",
       "      <td>2012-09-16</td>\n",
       "      <td>1</td>\n",
       "    </tr>\n",
       "    <tr>\n",
       "      <th>1</th>\n",
       "      <td>61394</td>\n",
       "      <td>2012-09-25</td>\n",
       "      <td>1</td>\n",
       "    </tr>\n",
       "    <tr>\n",
       "      <th>2</th>\n",
       "      <td>61394</td>\n",
       "      <td>2012-10-09</td>\n",
       "      <td>1</td>\n",
       "    </tr>\n",
       "    <tr>\n",
       "      <th>3</th>\n",
       "      <td>61394</td>\n",
       "      <td>2012-10-15</td>\n",
       "      <td>1</td>\n",
       "    </tr>\n",
       "    <tr>\n",
       "      <th>4</th>\n",
       "      <td>61394</td>\n",
       "      <td>2012-11-10</td>\n",
       "      <td>1</td>\n",
       "    </tr>\n",
       "  </tbody>\n",
       "</table>\n",
       "</div>"
      ],
      "text/plain": [
       "   user_id  start_date  question_time\n",
       "0    61394  2012-09-16              1\n",
       "1    61394  2012-09-25              1\n",
       "2    61394  2012-10-09              1\n",
       "3    61394  2012-10-15              1\n",
       "4    61394  2012-11-10              1"
      ]
     },
     "execution_count": 26,
     "metadata": {},
     "output_type": "execute_result"
    }
   ],
   "source": [
    "session_count = df_small.groupby([\"user_id\",\"start_date\"])[\"question_time\"].count()\n",
    "session_count_df = session_count.to_frame()\n",
    "session_count_df.reset_index(inplace=True)\n",
    "session_count_df.head()"
   ]
  },
  {
   "cell_type": "code",
   "execution_count": 27,
   "metadata": {},
   "outputs": [
    {
     "data": {
      "text/plain": [
       "array([ 1,  2,  3,  5, 11, 10, 13,  4,  6,  7,  8,  9, 16, 12, 15, 23, 17,\n",
       "       14, 19])"
      ]
     },
     "execution_count": 27,
     "metadata": {},
     "output_type": "execute_result"
    }
   ],
   "source": [
    "session_count_df[\"question_time\"].unique()"
   ]
  },
  {
   "cell_type": "markdown",
   "metadata": {},
   "source": [
    "NOTES FOR NEXT SESSION: \n",
    "Parse out the different response times for the actions and then plot to see if response times get significantly longer as the session progresses.\n",
    "Start analysis on the affect detectors and the amount of time that it's taking throughout a session. Then bin the data to see more easily with standard error bars and means for each column. \n",
    "\n",
    "Try to clean through amount of questions and amount of time\n"
   ]
  },
  {
   "cell_type": "code",
   "execution_count": null,
   "metadata": {},
   "outputs": [],
   "source": []
  },
  {
   "cell_type": "code",
   "execution_count": null,
   "metadata": {},
   "outputs": [],
   "source": []
  }
 ],
 "metadata": {
  "kernelspec": {
   "display_name": "Python 3",
   "language": "python",
   "name": "python3"
  },
  "language_info": {
   "codemirror_mode": {
    "name": "ipython",
    "version": 3
   },
   "file_extension": ".py",
   "mimetype": "text/x-python",
   "name": "python",
   "nbconvert_exporter": "python",
   "pygments_lexer": "ipython3",
   "version": "3.6.4"
  }
 },
 "nbformat": 4,
 "nbformat_minor": 2
}
