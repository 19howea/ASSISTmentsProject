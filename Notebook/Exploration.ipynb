{
 "cells": [
  {
   "cell_type": "markdown",
   "metadata": {},
   "source": [
    "# Install Library"
   ]
  },
  {
   "cell_type": "code",
   "execution_count": 2,
   "metadata": {},
   "outputs": [
    {
     "name": "stdout",
     "output_type": "stream",
     "text": [
      "Collecting numpy\n",
      "  Using cached https://files.pythonhosted.org/packages/75/22/355e68c80802d6f488223788fbda75c1daab83c3ef609153676c1f17be5f/numpy-1.15.2-cp35-cp35m-manylinux1_x86_64.whl\n",
      "Collecting pandas\n",
      "  Using cached https://files.pythonhosted.org/packages/5d/d4/6e9c56a561f1d27407bf29318ca43f36ccaa289271b805a30034eb3a8ec4/pandas-0.23.4-cp35-cp35m-manylinux1_x86_64.whl\n",
      "Collecting matplotlib\n",
      "  Using cached https://files.pythonhosted.org/packages/7b/ca/8b55a66b7ce426329ab16419a7eee4eb35b5a3fbe0d002434b339a4a7b09/matplotlib-3.0.0-cp35-cp35m-manylinux1_x86_64.whl\n",
      "Collecting tqdm\n",
      "  Using cached https://files.pythonhosted.org/packages/79/43/19c9fee28110cd47f73e6bc596394337fe9f3e5825b4de402bbf30b3beb5/tqdm-4.26.0-py2.py3-none-any.whl\n",
      "Collecting python-dateutil>=2.5.0 (from pandas)\n",
      "  Using cached https://files.pythonhosted.org/packages/cf/f5/af2b09c957ace60dcfac112b669c45c8c97e32f94aa8b56da4c6d1682825/python_dateutil-2.7.3-py2.py3-none-any.whl\n",
      "Collecting pytz>=2011k (from pandas)\n",
      "  Using cached https://files.pythonhosted.org/packages/30/4e/27c34b62430286c6d59177a0842ed90dc789ce5d1ed740887653b898779a/pytz-2018.5-py2.py3-none-any.whl\n",
      "Collecting cycler>=0.10 (from matplotlib)\n",
      "  Using cached https://files.pythonhosted.org/packages/f7/d2/e07d3ebb2bd7af696440ce7e754c59dd546ffe1bbe732c8ab68b9c834e61/cycler-0.10.0-py2.py3-none-any.whl\n",
      "Requirement already satisfied: pyparsing!=2.0.4,!=2.1.2,!=2.1.6,>=2.0.1 in /usr/lib/python3/dist-packages (from matplotlib) (2.0.3)\n",
      "Collecting kiwisolver>=1.0.1 (from matplotlib)\n",
      "  Using cached https://files.pythonhosted.org/packages/7e/31/d6fedd4fb2c94755cd101191e581af30e1650ccce7a35bddb7930fed6574/kiwisolver-1.0.1-cp35-cp35m-manylinux1_x86_64.whl\n",
      "Requirement already satisfied: six>=1.5 in /usr/lib/python3/dist-packages (from python-dateutil>=2.5.0->pandas) (1.10.0)\n",
      "Requirement already satisfied: setuptools in /usr/lib/python3/dist-packages (from kiwisolver>=1.0.1->matplotlib) (20.7.0)\n",
      "Installing collected packages: numpy, python-dateutil, pytz, pandas, cycler, kiwisolver, matplotlib, tqdm\n",
      "Successfully installed cycler-0.10.0 kiwisolver-1.0.1 matplotlib-3.0.0 numpy-1.15.2 pandas-0.23.4 python-dateutil-2.7.3 pytz-2018.5 tqdm-4.26.0\n"
     ]
    }
   ],
   "source": [
    "!pip install numpy pandas matplotlib tqdm --user"
   ]
  },
  {
   "cell_type": "markdown",
   "metadata": {},
   "source": [
    "# Import"
   ]
  },
  {
   "cell_type": "code",
   "execution_count": 5,
   "metadata": {},
   "outputs": [],
   "source": [
    "import numpy as np \n",
    "import pandas as pd"
   ]
  },
  {
   "cell_type": "code",
   "execution_count": 7,
   "metadata": {},
   "outputs": [],
   "source": [
    "#load dataset\n",
    "df = pd.read_csv(\"../Dataset/2012-2013-data-with-predictions-4-final.csv\",low_memory=False)"
   ]
  },
  {
   "cell_type": "code",
   "execution_count": 8,
   "metadata": {},
   "outputs": [
    {
     "data": {
      "text/html": [
       "<div>\n",
       "<style scoped>\n",
       "    .dataframe tbody tr th:only-of-type {\n",
       "        vertical-align: middle;\n",
       "    }\n",
       "\n",
       "    .dataframe tbody tr th {\n",
       "        vertical-align: top;\n",
       "    }\n",
       "\n",
       "    .dataframe thead th {\n",
       "        text-align: right;\n",
       "    }\n",
       "</style>\n",
       "<table border=\"1\" class=\"dataframe\">\n",
       "  <thead>\n",
       "    <tr style=\"text-align: right;\">\n",
       "      <th></th>\n",
       "      <th>problem_log_id</th>\n",
       "      <th>skill</th>\n",
       "      <th>problem_id</th>\n",
       "      <th>user_id</th>\n",
       "      <th>assignment_id</th>\n",
       "      <th>assistment_id</th>\n",
       "      <th>start_time</th>\n",
       "      <th>end_time</th>\n",
       "      <th>problem_type</th>\n",
       "      <th>original</th>\n",
       "      <th>...</th>\n",
       "      <th>overlap_time</th>\n",
       "      <th>template_id</th>\n",
       "      <th>answer_id</th>\n",
       "      <th>answer_text</th>\n",
       "      <th>first_action</th>\n",
       "      <th>problemlogid</th>\n",
       "      <th>Average_confidence(FRUSTRATED)</th>\n",
       "      <th>Average_confidence(CONFUSED)</th>\n",
       "      <th>Average_confidence(CONCENTRATING)</th>\n",
       "      <th>Average_confidence(BORED)</th>\n",
       "    </tr>\n",
       "  </thead>\n",
       "  <tbody>\n",
       "    <tr>\n",
       "      <th>0</th>\n",
       "      <td>137792159</td>\n",
       "      <td>NaN</td>\n",
       "      <td>557460</td>\n",
       "      <td>61394</td>\n",
       "      <td>565736</td>\n",
       "      <td>341511</td>\n",
       "      <td>2012-09-28 15:11:27</td>\n",
       "      <td>2012-09-28 15:11:36.856</td>\n",
       "      <td>choose_1</td>\n",
       "      <td>1</td>\n",
       "      <td>...</td>\n",
       "      <td>9852</td>\n",
       "      <td>341511</td>\n",
       "      <td>NaN</td>\n",
       "      <td>she</td>\n",
       "      <td>0</td>\n",
       "      <td>137792159</td>\n",
       "      <td>0.361323</td>\n",
       "      <td>0.0</td>\n",
       "      <td>0.336529</td>\n",
       "      <td>0.000000</td>\n",
       "    </tr>\n",
       "    <tr>\n",
       "      <th>1</th>\n",
       "      <td>138083797</td>\n",
       "      <td>Rounding</td>\n",
       "      <td>365981</td>\n",
       "      <td>61394</td>\n",
       "      <td>573819</td>\n",
       "      <td>204043</td>\n",
       "      <td>2012-10-09 11:01:52</td>\n",
       "      <td>2012-10-09 11:02:13.182</td>\n",
       "      <td>algebra</td>\n",
       "      <td>1</td>\n",
       "      <td>...</td>\n",
       "      <td>21175</td>\n",
       "      <td>204043</td>\n",
       "      <td>NaN</td>\n",
       "      <td>74.29</td>\n",
       "      <td>0</td>\n",
       "      <td>138083797</td>\n",
       "      <td>0.361323</td>\n",
       "      <td>0.0</td>\n",
       "      <td>0.766925</td>\n",
       "      <td>0.000000</td>\n",
       "    </tr>\n",
       "    <tr>\n",
       "      <th>2</th>\n",
       "      <td>142332619</td>\n",
       "      <td>Multiplication and Division Integers</td>\n",
       "      <td>426415</td>\n",
       "      <td>61394</td>\n",
       "      <td>734130</td>\n",
       "      <td>247525</td>\n",
       "      <td>2013-03-07 10:53:20</td>\n",
       "      <td>2013-03-07 10:53:28.661</td>\n",
       "      <td>algebra</td>\n",
       "      <td>1</td>\n",
       "      <td>...</td>\n",
       "      <td>8645</td>\n",
       "      <td>247525</td>\n",
       "      <td>NaN</td>\n",
       "      <td>00</td>\n",
       "      <td>0</td>\n",
       "      <td>142332619</td>\n",
       "      <td>0.361323</td>\n",
       "      <td>0.0</td>\n",
       "      <td>0.766925</td>\n",
       "      <td>0.442968</td>\n",
       "    </tr>\n",
       "    <tr>\n",
       "      <th>3</th>\n",
       "      <td>145939397</td>\n",
       "      <td>Proportion</td>\n",
       "      <td>86686</td>\n",
       "      <td>61394</td>\n",
       "      <td>821352</td>\n",
       "      <td>48081</td>\n",
       "      <td>2013-08-20 19:54:56</td>\n",
       "      <td>2013-08-20 19:55:21.753</td>\n",
       "      <td>algebra</td>\n",
       "      <td>1</td>\n",
       "      <td>...</td>\n",
       "      <td>25728</td>\n",
       "      <td>46362</td>\n",
       "      <td>NaN</td>\n",
       "      <td>3.8</td>\n",
       "      <td>0</td>\n",
       "      <td>145939397</td>\n",
       "      <td>0.775000</td>\n",
       "      <td>0.0</td>\n",
       "      <td>0.766925</td>\n",
       "      <td>0.912281</td>\n",
       "    </tr>\n",
       "    <tr>\n",
       "      <th>4</th>\n",
       "      <td>137111284</td>\n",
       "      <td>NaN</td>\n",
       "      <td>399669</td>\n",
       "      <td>76592</td>\n",
       "      <td>557216</td>\n",
       "      <td>227869</td>\n",
       "      <td>2012-09-10 17:20:10</td>\n",
       "      <td>2012-09-10 17:24:56.579</td>\n",
       "      <td>choose_1</td>\n",
       "      <td>1</td>\n",
       "      <td>...</td>\n",
       "      <td>286578</td>\n",
       "      <td>227869</td>\n",
       "      <td>NaN</td>\n",
       "      <td>C (wr - 1)(wr + 1)</td>\n",
       "      <td>0</td>\n",
       "      <td>137111284</td>\n",
       "      <td>0.361323</td>\n",
       "      <td>0.0</td>\n",
       "      <td>0.766925</td>\n",
       "      <td>0.000000</td>\n",
       "    </tr>\n",
       "  </tbody>\n",
       "</table>\n",
       "<p>5 rows × 35 columns</p>\n",
       "</div>"
      ],
      "text/plain": [
       "   problem_log_id                                 skill  problem_id  user_id  \\\n",
       "0       137792159                                   NaN      557460    61394   \n",
       "1       138083797                              Rounding      365981    61394   \n",
       "2       142332619  Multiplication and Division Integers      426415    61394   \n",
       "3       145939397                            Proportion       86686    61394   \n",
       "4       137111284                                   NaN      399669    76592   \n",
       "\n",
       "   assignment_id  assistment_id           start_time                 end_time  \\\n",
       "0         565736         341511  2012-09-28 15:11:27  2012-09-28 15:11:36.856   \n",
       "1         573819         204043  2012-10-09 11:01:52  2012-10-09 11:02:13.182   \n",
       "2         734130         247525  2013-03-07 10:53:20  2013-03-07 10:53:28.661   \n",
       "3         821352          48081  2013-08-20 19:54:56  2013-08-20 19:55:21.753   \n",
       "4         557216         227869  2012-09-10 17:20:10  2012-09-10 17:24:56.579   \n",
       "\n",
       "  problem_type  original            ...              overlap_time  \\\n",
       "0     choose_1         1            ...                      9852   \n",
       "1      algebra         1            ...                     21175   \n",
       "2      algebra         1            ...                      8645   \n",
       "3      algebra         1            ...                     25728   \n",
       "4     choose_1         1            ...                    286578   \n",
       "\n",
       "   template_id  answer_id         answer_text  first_action  problemlogid  \\\n",
       "0       341511        NaN                 she             0     137792159   \n",
       "1       204043        NaN               74.29             0     138083797   \n",
       "2       247525        NaN                  00             0     142332619   \n",
       "3        46362        NaN                 3.8             0     145939397   \n",
       "4       227869        NaN  C (wr - 1)(wr + 1)             0     137111284   \n",
       "\n",
       "  Average_confidence(FRUSTRATED)  Average_confidence(CONFUSED)  \\\n",
       "0                       0.361323                           0.0   \n",
       "1                       0.361323                           0.0   \n",
       "2                       0.361323                           0.0   \n",
       "3                       0.775000                           0.0   \n",
       "4                       0.361323                           0.0   \n",
       "\n",
       "   Average_confidence(CONCENTRATING)  Average_confidence(BORED)  \n",
       "0                           0.336529                   0.000000  \n",
       "1                           0.766925                   0.000000  \n",
       "2                           0.766925                   0.442968  \n",
       "3                           0.766925                   0.912281  \n",
       "4                           0.766925                   0.000000  \n",
       "\n",
       "[5 rows x 35 columns]"
      ]
     },
     "execution_count": 8,
     "metadata": {},
     "output_type": "execute_result"
    }
   ],
   "source": [
    "df.head()"
   ]
  },
  {
   "cell_type": "code",
   "execution_count": 9,
   "metadata": {},
   "outputs": [
    {
     "data": {
      "text/html": [
       "<div>\n",
       "<style scoped>\n",
       "    .dataframe tbody tr th:only-of-type {\n",
       "        vertical-align: middle;\n",
       "    }\n",
       "\n",
       "    .dataframe tbody tr th {\n",
       "        vertical-align: top;\n",
       "    }\n",
       "\n",
       "    .dataframe thead th {\n",
       "        text-align: right;\n",
       "    }\n",
       "</style>\n",
       "<table border=\"1\" class=\"dataframe\">\n",
       "  <thead>\n",
       "    <tr style=\"text-align: right;\">\n",
       "      <th></th>\n",
       "      <th>problem_log_id</th>\n",
       "      <th>problem_id</th>\n",
       "      <th>user_id</th>\n",
       "      <th>assignment_id</th>\n",
       "      <th>assistment_id</th>\n",
       "      <th>original</th>\n",
       "      <th>correct</th>\n",
       "      <th>bottom_hint</th>\n",
       "      <th>hint_count</th>\n",
       "      <th>attempt_count</th>\n",
       "      <th>...</th>\n",
       "      <th>school_id</th>\n",
       "      <th>overlap_time</th>\n",
       "      <th>template_id</th>\n",
       "      <th>answer_id</th>\n",
       "      <th>first_action</th>\n",
       "      <th>problemlogid</th>\n",
       "      <th>Average_confidence(FRUSTRATED)</th>\n",
       "      <th>Average_confidence(CONFUSED)</th>\n",
       "      <th>Average_confidence(CONCENTRATING)</th>\n",
       "      <th>Average_confidence(BORED)</th>\n",
       "    </tr>\n",
       "  </thead>\n",
       "  <tbody>\n",
       "    <tr>\n",
       "      <th>count</th>\n",
       "      <td>6.123270e+06</td>\n",
       "      <td>6.123270e+06</td>\n",
       "      <td>6.123270e+06</td>\n",
       "      <td>6.123270e+06</td>\n",
       "      <td>6.123270e+06</td>\n",
       "      <td>6.123270e+06</td>\n",
       "      <td>6.123270e+06</td>\n",
       "      <td>6.062922e+06</td>\n",
       "      <td>6.123270e+06</td>\n",
       "      <td>6.123270e+06</td>\n",
       "      <td>...</td>\n",
       "      <td>6.123113e+06</td>\n",
       "      <td>6.123270e+06</td>\n",
       "      <td>6.123270e+06</td>\n",
       "      <td>8.275000e+03</td>\n",
       "      <td>6.123270e+06</td>\n",
       "      <td>6.123270e+06</td>\n",
       "      <td>6.123270e+06</td>\n",
       "      <td>6.123270e+06</td>\n",
       "      <td>6.123270e+06</td>\n",
       "      <td>6.123270e+06</td>\n",
       "    </tr>\n",
       "    <tr>\n",
       "      <th>mean</th>\n",
       "      <td>1.414932e+08</td>\n",
       "      <td>3.685675e+05</td>\n",
       "      <td>1.770492e+05</td>\n",
       "      <td>6.773074e+05</td>\n",
       "      <td>2.202825e+05</td>\n",
       "      <td>9.504296e-01</td>\n",
       "      <td>6.768206e-01</td>\n",
       "      <td>1.200497e-01</td>\n",
       "      <td>3.373479e-01</td>\n",
       "      <td>1.339212e+00</td>\n",
       "      <td>...</td>\n",
       "      <td>6.925225e+03</td>\n",
       "      <td>4.907237e+04</td>\n",
       "      <td>2.088952e+05</td>\n",
       "      <td>4.324879e+05</td>\n",
       "      <td>6.151860e-02</td>\n",
       "      <td>1.414932e+08</td>\n",
       "      <td>3.894586e-01</td>\n",
       "      <td>4.479487e-02</td>\n",
       "      <td>6.823843e-01</td>\n",
       "      <td>2.567723e-01</td>\n",
       "    </tr>\n",
       "    <tr>\n",
       "      <th>std</th>\n",
       "      <td>2.693733e+06</td>\n",
       "      <td>2.195421e+05</td>\n",
       "      <td>3.172431e+04</td>\n",
       "      <td>9.425983e+04</td>\n",
       "      <td>1.393519e+05</td>\n",
       "      <td>2.170557e-01</td>\n",
       "      <td>4.674909e-01</td>\n",
       "      <td>3.250197e-01</td>\n",
       "      <td>9.851956e-01</td>\n",
       "      <td>1.056276e+00</td>\n",
       "      <td>...</td>\n",
       "      <td>3.314489e+03</td>\n",
       "      <td>2.884992e+05</td>\n",
       "      <td>1.458227e+05</td>\n",
       "      <td>3.534885e+05</td>\n",
       "      <td>2.635170e-01</td>\n",
       "      <td>2.693733e+06</td>\n",
       "      <td>1.027662e-01</td>\n",
       "      <td>1.924793e-01</td>\n",
       "      <td>1.713734e-01</td>\n",
       "      <td>2.862460e-01</td>\n",
       "    </tr>\n",
       "    <tr>\n",
       "      <th>min</th>\n",
       "      <td>1.368431e+08</td>\n",
       "      <td>1.000000e+00</td>\n",
       "      <td>2.142100e+04</td>\n",
       "      <td>1.814560e+05</td>\n",
       "      <td>5.000000e+00</td>\n",
       "      <td>0.000000e+00</td>\n",
       "      <td>0.000000e+00</td>\n",
       "      <td>0.000000e+00</td>\n",
       "      <td>0.000000e+00</td>\n",
       "      <td>0.000000e+00</td>\n",
       "      <td>...</td>\n",
       "      <td>1.000000e+00</td>\n",
       "      <td>-6.767000e+03</td>\n",
       "      <td>5.000000e+00</td>\n",
       "      <td>1.000000e+00</td>\n",
       "      <td>0.000000e+00</td>\n",
       "      <td>1.368431e+08</td>\n",
       "      <td>3.613230e-01</td>\n",
       "      <td>0.000000e+00</td>\n",
       "      <td>1.707320e-01</td>\n",
       "      <td>0.000000e+00</td>\n",
       "    </tr>\n",
       "    <tr>\n",
       "      <th>25%</th>\n",
       "      <td>1.391705e+08</td>\n",
       "      <td>1.284030e+05</td>\n",
       "      <td>1.719780e+05</td>\n",
       "      <td>5.863570e+05</td>\n",
       "      <td>6.883725e+04</td>\n",
       "      <td>1.000000e+00</td>\n",
       "      <td>0.000000e+00</td>\n",
       "      <td>0.000000e+00</td>\n",
       "      <td>0.000000e+00</td>\n",
       "      <td>1.000000e+00</td>\n",
       "      <td>...</td>\n",
       "      <td>5.260000e+03</td>\n",
       "      <td>9.468000e+03</td>\n",
       "      <td>5.259000e+04</td>\n",
       "      <td>1.060495e+05</td>\n",
       "      <td>0.000000e+00</td>\n",
       "      <td>1.391705e+08</td>\n",
       "      <td>3.613230e-01</td>\n",
       "      <td>0.000000e+00</td>\n",
       "      <td>7.669250e-01</td>\n",
       "      <td>0.000000e+00</td>\n",
       "    </tr>\n",
       "    <tr>\n",
       "      <th>50%</th>\n",
       "      <td>1.414916e+08</td>\n",
       "      <td>4.168130e+05</td>\n",
       "      <td>1.791670e+05</td>\n",
       "      <td>6.785645e+05</td>\n",
       "      <td>2.399180e+05</td>\n",
       "      <td>1.000000e+00</td>\n",
       "      <td>1.000000e+00</td>\n",
       "      <td>0.000000e+00</td>\n",
       "      <td>0.000000e+00</td>\n",
       "      <td>1.000000e+00</td>\n",
       "      <td>...</td>\n",
       "      <td>5.978000e+03</td>\n",
       "      <td>2.241500e+04</td>\n",
       "      <td>2.395460e+05</td>\n",
       "      <td>3.442820e+05</td>\n",
       "      <td>0.000000e+00</td>\n",
       "      <td>1.414916e+08</td>\n",
       "      <td>3.613230e-01</td>\n",
       "      <td>0.000000e+00</td>\n",
       "      <td>7.669250e-01</td>\n",
       "      <td>2.214840e-01</td>\n",
       "    </tr>\n",
       "    <tr>\n",
       "      <th>75%</th>\n",
       "      <td>1.438272e+08</td>\n",
       "      <td>5.644030e+05</td>\n",
       "      <td>1.972510e+05</td>\n",
       "      <td>7.672320e+05</td>\n",
       "      <td>3.466830e+05</td>\n",
       "      <td>1.000000e+00</td>\n",
       "      <td>1.000000e+00</td>\n",
       "      <td>0.000000e+00</td>\n",
       "      <td>0.000000e+00</td>\n",
       "      <td>1.000000e+00</td>\n",
       "      <td>...</td>\n",
       "      <td>9.394000e+03</td>\n",
       "      <td>5.505400e+04</td>\n",
       "      <td>3.434800e+05</td>\n",
       "      <td>7.385615e+05</td>\n",
       "      <td>0.000000e+00</td>\n",
       "      <td>1.438272e+08</td>\n",
       "      <td>3.613230e-01</td>\n",
       "      <td>0.000000e+00</td>\n",
       "      <td>7.669250e-01</td>\n",
       "      <td>4.429680e-01</td>\n",
       "    </tr>\n",
       "    <tr>\n",
       "      <th>max</th>\n",
       "      <td>1.462357e+08</td>\n",
       "      <td>7.671430e+05</td>\n",
       "      <td>2.282130e+05</td>\n",
       "      <td>8.330540e+05</td>\n",
       "      <td>4.925890e+05</td>\n",
       "      <td>1.000000e+00</td>\n",
       "      <td>1.000000e+00</td>\n",
       "      <td>1.000000e+00</td>\n",
       "      <td>1.400000e+01</td>\n",
       "      <td>2.900000e+01</td>\n",
       "      <td>...</td>\n",
       "      <td>1.242800e+04</td>\n",
       "      <td>3.452775e+08</td>\n",
       "      <td>4.925890e+05</td>\n",
       "      <td>1.184706e+06</td>\n",
       "      <td>2.000000e+00</td>\n",
       "      <td>1.462357e+08</td>\n",
       "      <td>8.671330e-01</td>\n",
       "      <td>1.000000e+00</td>\n",
       "      <td>7.669250e-01</td>\n",
       "      <td>1.000000e+00</td>\n",
       "    </tr>\n",
       "  </tbody>\n",
       "</table>\n",
       "<p>8 rows × 27 columns</p>\n",
       "</div>"
      ],
      "text/plain": [
       "       problem_log_id    problem_id       user_id  assignment_id  \\\n",
       "count    6.123270e+06  6.123270e+06  6.123270e+06   6.123270e+06   \n",
       "mean     1.414932e+08  3.685675e+05  1.770492e+05   6.773074e+05   \n",
       "std      2.693733e+06  2.195421e+05  3.172431e+04   9.425983e+04   \n",
       "min      1.368431e+08  1.000000e+00  2.142100e+04   1.814560e+05   \n",
       "25%      1.391705e+08  1.284030e+05  1.719780e+05   5.863570e+05   \n",
       "50%      1.414916e+08  4.168130e+05  1.791670e+05   6.785645e+05   \n",
       "75%      1.438272e+08  5.644030e+05  1.972510e+05   7.672320e+05   \n",
       "max      1.462357e+08  7.671430e+05  2.282130e+05   8.330540e+05   \n",
       "\n",
       "       assistment_id      original       correct   bottom_hint    hint_count  \\\n",
       "count   6.123270e+06  6.123270e+06  6.123270e+06  6.062922e+06  6.123270e+06   \n",
       "mean    2.202825e+05  9.504296e-01  6.768206e-01  1.200497e-01  3.373479e-01   \n",
       "std     1.393519e+05  2.170557e-01  4.674909e-01  3.250197e-01  9.851956e-01   \n",
       "min     5.000000e+00  0.000000e+00  0.000000e+00  0.000000e+00  0.000000e+00   \n",
       "25%     6.883725e+04  1.000000e+00  0.000000e+00  0.000000e+00  0.000000e+00   \n",
       "50%     2.399180e+05  1.000000e+00  1.000000e+00  0.000000e+00  0.000000e+00   \n",
       "75%     3.466830e+05  1.000000e+00  1.000000e+00  0.000000e+00  0.000000e+00   \n",
       "max     4.925890e+05  1.000000e+00  1.000000e+00  1.000000e+00  1.400000e+01   \n",
       "\n",
       "       attempt_count            ...                 school_id  overlap_time  \\\n",
       "count   6.123270e+06            ...              6.123113e+06  6.123270e+06   \n",
       "mean    1.339212e+00            ...              6.925225e+03  4.907237e+04   \n",
       "std     1.056276e+00            ...              3.314489e+03  2.884992e+05   \n",
       "min     0.000000e+00            ...              1.000000e+00 -6.767000e+03   \n",
       "25%     1.000000e+00            ...              5.260000e+03  9.468000e+03   \n",
       "50%     1.000000e+00            ...              5.978000e+03  2.241500e+04   \n",
       "75%     1.000000e+00            ...              9.394000e+03  5.505400e+04   \n",
       "max     2.900000e+01            ...              1.242800e+04  3.452775e+08   \n",
       "\n",
       "        template_id     answer_id  first_action  problemlogid  \\\n",
       "count  6.123270e+06  8.275000e+03  6.123270e+06  6.123270e+06   \n",
       "mean   2.088952e+05  4.324879e+05  6.151860e-02  1.414932e+08   \n",
       "std    1.458227e+05  3.534885e+05  2.635170e-01  2.693733e+06   \n",
       "min    5.000000e+00  1.000000e+00  0.000000e+00  1.368431e+08   \n",
       "25%    5.259000e+04  1.060495e+05  0.000000e+00  1.391705e+08   \n",
       "50%    2.395460e+05  3.442820e+05  0.000000e+00  1.414916e+08   \n",
       "75%    3.434800e+05  7.385615e+05  0.000000e+00  1.438272e+08   \n",
       "max    4.925890e+05  1.184706e+06  2.000000e+00  1.462357e+08   \n",
       "\n",
       "       Average_confidence(FRUSTRATED)  Average_confidence(CONFUSED)  \\\n",
       "count                    6.123270e+06                  6.123270e+06   \n",
       "mean                     3.894586e-01                  4.479487e-02   \n",
       "std                      1.027662e-01                  1.924793e-01   \n",
       "min                      3.613230e-01                  0.000000e+00   \n",
       "25%                      3.613230e-01                  0.000000e+00   \n",
       "50%                      3.613230e-01                  0.000000e+00   \n",
       "75%                      3.613230e-01                  0.000000e+00   \n",
       "max                      8.671330e-01                  1.000000e+00   \n",
       "\n",
       "       Average_confidence(CONCENTRATING)  Average_confidence(BORED)  \n",
       "count                       6.123270e+06               6.123270e+06  \n",
       "mean                        6.823843e-01               2.567723e-01  \n",
       "std                         1.713734e-01               2.862460e-01  \n",
       "min                         1.707320e-01               0.000000e+00  \n",
       "25%                         7.669250e-01               0.000000e+00  \n",
       "50%                         7.669250e-01               2.214840e-01  \n",
       "75%                         7.669250e-01               4.429680e-01  \n",
       "max                         7.669250e-01               1.000000e+00  \n",
       "\n",
       "[8 rows x 27 columns]"
      ]
     },
     "execution_count": 9,
     "metadata": {},
     "output_type": "execute_result"
    }
   ],
   "source": [
    "df.describe()"
   ]
  },
  {
   "cell_type": "code",
   "execution_count": 10,
   "metadata": {},
   "outputs": [
    {
     "data": {
      "text/plain": [
       "Index(['problem_log_id', 'skill', 'problem_id', 'user_id', 'assignment_id',\n",
       "       'assistment_id', 'start_time', 'end_time', 'problem_type', 'original',\n",
       "       'correct', 'bottom_hint', 'hint_count', 'actions', 'attempt_count',\n",
       "       'ms_first_response', 'tutor_mode', 'sequence_id', 'student_class_id',\n",
       "       'position', 'type', 'base_sequence_id', 'skill_id', 'teacher_id',\n",
       "       'school_id', 'overlap_time', 'template_id', 'answer_id', 'answer_text',\n",
       "       'first_action', 'problemlogid', 'Average_confidence(FRUSTRATED)',\n",
       "       'Average_confidence(CONFUSED)', 'Average_confidence(CONCENTRATING)',\n",
       "       'Average_confidence(BORED)'],\n",
       "      dtype='object')"
      ]
     },
     "execution_count": 10,
     "metadata": {},
     "output_type": "execute_result"
    }
   ],
   "source": [
    "df.columns"
   ]
  },
  {
   "cell_type": "code",
   "execution_count": 11,
   "metadata": {},
   "outputs": [],
   "source": [
    "import time\n",
    "import datetime\n",
    "from tqdm import tqdm"
   ]
  },
  {
   "cell_type": "markdown",
   "metadata": {},
   "source": [
    "Calculate the time taken per question in seconds. Each row is a question, which has start time and end time."
   ]
  },
  {
   "cell_type": "code",
   "execution_count": 12,
   "metadata": {},
   "outputs": [
    {
     "data": {
      "text/plain": [
       "0    2012-09-28 15:11:27\n",
       "1    2012-10-09 11:01:52\n",
       "2    2013-03-07 10:53:20\n",
       "3    2013-08-20 19:54:56\n",
       "4    2012-09-10 17:20:10\n",
       "Name: start_time, dtype: object"
      ]
     },
     "execution_count": 12,
     "metadata": {},
     "output_type": "execute_result"
    }
   ],
   "source": [
    "start_time = df[\"start_time\"]\n",
    "start_time.head()"
   ]
  },
  {
   "cell_type": "code",
   "execution_count": 13,
   "metadata": {},
   "outputs": [
    {
     "data": {
      "text/plain": [
       "0    2012-09-28 15:11:36.856\n",
       "1    2012-10-09 11:02:13.182\n",
       "2    2013-03-07 10:53:28.661\n",
       "3    2013-08-20 19:55:21.753\n",
       "4    2012-09-10 17:24:56.579\n",
       "Name: end_time, dtype: object"
      ]
     },
     "execution_count": 13,
     "metadata": {},
     "output_type": "execute_result"
    }
   ],
   "source": [
    "end_time = df[\"end_time\"]\n",
    "end_time.head()"
   ]
  },
  {
   "cell_type": "markdown",
   "metadata": {},
   "source": [
    "Convert the start time and end time to Unix to calculate."
   ]
  },
  {
   "cell_type": "code",
   "execution_count": 14,
   "metadata": {},
   "outputs": [
    {
     "name": "stderr",
     "output_type": "stream",
     "text": [
      "100%|██████████| 6123270/6123270 [04:56<00:00, 20624.49it/s]\n"
     ]
    },
    {
     "data": {
      "text/plain": [
       "array([1.34881269e+09, 1.34974811e+09, 1.36262120e+09, 1.37699610e+09,\n",
       "       1.34726521e+09])"
      ]
     },
     "execution_count": 14,
     "metadata": {},
     "output_type": "execute_result"
    }
   ],
   "source": [
    "start_time_unix = []\n",
    "for i in tqdm(range(len(start_time))):\n",
    "    try:\n",
    "        start_time_unix.append(time.mktime(datetime.datetime.strptime(start_time[i], \"%Y-%m-%d %H:%M:%S\").timetuple()))\n",
    "    except:\n",
    "        start_time_unix.append(np.NaN)\n",
    "start_time_unix = np.array(start_time_unix)\n",
    "start_time_unix[0:5]"
   ]
  },
  {
   "cell_type": "code",
   "execution_count": 17,
   "metadata": {},
   "outputs": [
    {
     "name": "stderr",
     "output_type": "stream",
     "text": [
      "100%|██████████| 6123270/6123270 [05:11<00:00, 19661.68it/s]\n"
     ]
    },
    {
     "data": {
      "text/plain": [
       "array([1.34881270e+09, 1.34974813e+09, 1.36262121e+09, 1.37699612e+09,\n",
       "       1.34726550e+09])"
      ]
     },
     "execution_count": 17,
     "metadata": {},
     "output_type": "execute_result"
    }
   ],
   "source": [
    "end_time_unix = []\n",
    "for i in tqdm(range(len(end_time))):\n",
    "    try:\n",
    "        end_time_unix.append(time.mktime(datetime.datetime.strptime(end_time[i], \"%Y-%m-%d %H:%M:%S.%f\").timetuple()))\n",
    "    except:\n",
    "        end_time_unix.append(np.NaN)\n",
    "end_time_unix = np.array(end_time_unix)\n",
    "end_time_unix[:5]"
   ]
  },
  {
   "cell_type": "code",
   "execution_count": 18,
   "metadata": {},
   "outputs": [],
   "source": [
    "question_time = end_time_unix - start_time_unix"
   ]
  },
  {
   "cell_type": "code",
   "execution_count": 19,
   "metadata": {},
   "outputs": [],
   "source": [
    "df[\"question_time\"] = question_time"
   ]
  },
  {
   "cell_type": "markdown",
   "metadata": {},
   "source": [
    "Clean the data with question time greater than 0, and less than 5 mins"
   ]
  },
  {
   "cell_type": "code",
   "execution_count": 20,
   "metadata": {},
   "outputs": [],
   "source": [
    "df = df[df[\"question_time\"] > 0] # clean all the data with question time <=0"
   ]
  },
  {
   "cell_type": "code",
   "execution_count": 21,
   "metadata": {},
   "outputs": [],
   "source": [
    "df = df[df[\"question_time\"] < 300 ] # clean all the data with question time >300"
   ]
  },
  {
   "cell_type": "code",
   "execution_count": 22,
   "metadata": {},
   "outputs": [
    {
     "data": {
      "text/plain": [
       "(5835244, 36)"
      ]
     },
     "execution_count": 22,
     "metadata": {},
     "output_type": "execute_result"
    }
   ],
   "source": [
    "df.shape"
   ]
  },
  {
   "cell_type": "markdown",
   "metadata": {},
   "source": [
    "Try to find total session time.\n",
    "A session is defined by a specific user_id answering multiple questions on the same date. "
   ]
  },
  {
   "cell_type": "code",
   "execution_count": 25,
   "metadata": {},
   "outputs": [
    {
     "name": "stderr",
     "output_type": "stream",
     "text": [
      "100%|██████████| 5835244/5835244 [01:06<00:00, 87358.98it/s]\n"
     ]
    }
   ],
   "source": [
    "start_date = []\n",
    "start_time = df[\"start_time\"]\n",
    "for i in tqdm(range(len(start_time))):\n",
    "    start_date.append(start_time.iloc[i].split(\" \")[0])"
   ]
  },
  {
   "cell_type": "code",
   "execution_count": 26,
   "metadata": {},
   "outputs": [],
   "source": [
    "df[\"start_date\"] = start_date"
   ]
  },
  {
   "cell_type": "code",
   "execution_count": 27,
   "metadata": {},
   "outputs": [
    {
     "data": {
      "text/html": [
       "<div>\n",
       "<style scoped>\n",
       "    .dataframe tbody tr th:only-of-type {\n",
       "        vertical-align: middle;\n",
       "    }\n",
       "\n",
       "    .dataframe tbody tr th {\n",
       "        vertical-align: top;\n",
       "    }\n",
       "\n",
       "    .dataframe thead th {\n",
       "        text-align: right;\n",
       "    }\n",
       "</style>\n",
       "<table border=\"1\" class=\"dataframe\">\n",
       "  <thead>\n",
       "    <tr style=\"text-align: right;\">\n",
       "      <th></th>\n",
       "      <th>user_id</th>\n",
       "      <th>start_date</th>\n",
       "      <th>question_time</th>\n",
       "      <th>Average_confidence(FRUSTRATED)</th>\n",
       "      <th>Average_confidence(CONFUSED)</th>\n",
       "      <th>Average_confidence(CONCENTRATING)</th>\n",
       "      <th>Average_confidence(BORED)</th>\n",
       "      <th>ms_first_response</th>\n",
       "      <th>hint_count</th>\n",
       "      <th>actions</th>\n",
       "    </tr>\n",
       "  </thead>\n",
       "  <tbody>\n",
       "    <tr>\n",
       "      <th>0</th>\n",
       "      <td>61394</td>\n",
       "      <td>2012-09-28</td>\n",
       "      <td>9.0</td>\n",
       "      <td>0.361323</td>\n",
       "      <td>0.0</td>\n",
       "      <td>0.336529</td>\n",
       "      <td>0.000000</td>\n",
       "      <td>9852</td>\n",
       "      <td>0</td>\n",
       "      <td>--- \\n- - start\\n  - 1348859487561\\n  - \"95952...</td>\n",
       "    </tr>\n",
       "    <tr>\n",
       "      <th>1</th>\n",
       "      <td>61394</td>\n",
       "      <td>2012-10-09</td>\n",
       "      <td>21.0</td>\n",
       "      <td>0.361323</td>\n",
       "      <td>0.0</td>\n",
       "      <td>0.766925</td>\n",
       "      <td>0.000000</td>\n",
       "      <td>21175</td>\n",
       "      <td>0</td>\n",
       "      <td>--- \\n- - start\\n  - 1349794912269\\n  - \"62459...</td>\n",
       "    </tr>\n",
       "    <tr>\n",
       "      <th>2</th>\n",
       "      <td>61394</td>\n",
       "      <td>2013-03-07</td>\n",
       "      <td>8.0</td>\n",
       "      <td>0.361323</td>\n",
       "      <td>0.0</td>\n",
       "      <td>0.766925</td>\n",
       "      <td>0.442968</td>\n",
       "      <td>8645</td>\n",
       "      <td>0</td>\n",
       "      <td>--- \\n- - start\\n  - 1362671600405\\n  - \"74107...</td>\n",
       "    </tr>\n",
       "    <tr>\n",
       "      <th>3</th>\n",
       "      <td>61394</td>\n",
       "      <td>2013-08-20</td>\n",
       "      <td>25.0</td>\n",
       "      <td>0.775000</td>\n",
       "      <td>0.0</td>\n",
       "      <td>0.766925</td>\n",
       "      <td>0.912281</td>\n",
       "      <td>25728</td>\n",
       "      <td>0</td>\n",
       "      <td>--- \\n- - start\\n  - 1377042896503\\n  - \"73630...</td>\n",
       "    </tr>\n",
       "    <tr>\n",
       "      <th>4</th>\n",
       "      <td>76592</td>\n",
       "      <td>2012-09-10</td>\n",
       "      <td>286.0</td>\n",
       "      <td>0.361323</td>\n",
       "      <td>0.0</td>\n",
       "      <td>0.766925</td>\n",
       "      <td>0.000000</td>\n",
       "      <td>286578</td>\n",
       "      <td>0</td>\n",
       "      <td>--- \\n- - start\\n  - 1347312010563\\n  - \"69479...</td>\n",
       "    </tr>\n",
       "  </tbody>\n",
       "</table>\n",
       "</div>"
      ],
      "text/plain": [
       "   user_id  start_date  question_time  Average_confidence(FRUSTRATED)  \\\n",
       "0    61394  2012-09-28            9.0                        0.361323   \n",
       "1    61394  2012-10-09           21.0                        0.361323   \n",
       "2    61394  2013-03-07            8.0                        0.361323   \n",
       "3    61394  2013-08-20           25.0                        0.775000   \n",
       "4    76592  2012-09-10          286.0                        0.361323   \n",
       "\n",
       "   Average_confidence(CONFUSED)  Average_confidence(CONCENTRATING)  \\\n",
       "0                           0.0                           0.336529   \n",
       "1                           0.0                           0.766925   \n",
       "2                           0.0                           0.766925   \n",
       "3                           0.0                           0.766925   \n",
       "4                           0.0                           0.766925   \n",
       "\n",
       "   Average_confidence(BORED)  ms_first_response  hint_count  \\\n",
       "0                   0.000000               9852           0   \n",
       "1                   0.000000              21175           0   \n",
       "2                   0.442968               8645           0   \n",
       "3                   0.912281              25728           0   \n",
       "4                   0.000000             286578           0   \n",
       "\n",
       "                                             actions  \n",
       "0  --- \\n- - start\\n  - 1348859487561\\n  - \"95952...  \n",
       "1  --- \\n- - start\\n  - 1349794912269\\n  - \"62459...  \n",
       "2  --- \\n- - start\\n  - 1362671600405\\n  - \"74107...  \n",
       "3  --- \\n- - start\\n  - 1377042896503\\n  - \"73630...  \n",
       "4  --- \\n- - start\\n  - 1347312010563\\n  - \"69479...  "
      ]
     },
     "execution_count": 27,
     "metadata": {},
     "output_type": "execute_result"
    }
   ],
   "source": [
    "df_small = df [[\"user_id\", \"start_date\", \"question_time\",\"Average_confidence(FRUSTRATED)\",\n",
    "       \"Average_confidence(CONFUSED)\", \"Average_confidence(CONCENTRATING)\",\n",
    "       \"Average_confidence(BORED)\", 'ms_first_response', 'hint_count', 'actions' ]]\n",
    "df_small.head()"
   ]
  },
  {
   "cell_type": "code",
   "execution_count": 76,
   "metadata": {},
   "outputs": [
    {
     "data": {
      "text/plain": [
       "user_id  start_date\n",
       "21421    2013-05-22    194.0\n",
       "         2013-06-05     36.0\n",
       "24586    2012-10-29    112.0\n",
       "26046    2013-05-01    301.0\n",
       "26787    2012-12-03     45.0\n",
       "52535    2012-09-06     39.0\n",
       "         2013-01-29     40.0\n",
       "         2013-02-15    117.0\n",
       "         2013-04-02     43.0\n",
       "         2013-04-03    107.0\n",
       "         2013-04-04     93.0\n",
       "         2013-04-05    184.0\n",
       "         2013-04-08    110.0\n",
       "         2013-04-09     44.0\n",
       "         2013-04-25    101.0\n",
       "Name: question_time, dtype: float64"
      ]
     },
     "execution_count": 76,
     "metadata": {},
     "output_type": "execute_result"
    }
   ],
   "source": [
    "session_sum_question_time = df_small.groupby([\"user_id\",\"start_date\"])[\"question_time\"].sum()\n",
    "session_sum_question_time.head(15)"
   ]
  },
  {
   "cell_type": "code",
   "execution_count": 84,
   "metadata": {},
   "outputs": [
    {
     "data": {
      "text/plain": [
       "user_id  start_date\n",
       "21421    2013-05-22     4\n",
       "         2013-06-05     6\n",
       "24586    2012-10-29    10\n",
       "26046    2013-05-01    14\n",
       "26787    2012-12-03     1\n",
       "52535    2012-09-06    10\n",
       "         2013-01-29     4\n",
       "         2013-02-15     7\n",
       "         2013-04-02     4\n",
       "         2013-04-03     2\n",
       "         2013-04-04     3\n",
       "         2013-04-05     8\n",
       "         2013-04-08     6\n",
       "         2013-04-09     2\n",
       "         2013-04-25     2\n",
       "Name: Number_of_question, dtype: int64"
      ]
     },
     "execution_count": 84,
     "metadata": {},
     "output_type": "execute_result"
    }
   ],
   "source": [
    "session_count = df_small.groupby([\"user_id\",\"start_date\"])[\"question_time\"].count()\n",
    "session_count.name = \"Number_of_question\"\n",
    "session_count.head(15)"
   ]
  },
  {
   "cell_type": "code",
   "execution_count": 77,
   "metadata": {},
   "outputs": [
    {
     "data": {
      "text/plain": [
       "user_id  start_date\n",
       "21421    2013-05-22    0.534795\n",
       "         2013-06-05    0.414039\n",
       "24586    2012-10-29    0.058026\n",
       "26046    2013-05-01   -0.394399\n",
       "26787    2012-12-03         NaN\n",
       "52535    2012-09-06    0.000000\n",
       "         2013-01-29   -0.258199\n",
       "         2013-02-15    0.158114\n",
       "         2013-04-02   -0.774597\n",
       "         2013-04-03         NaN\n",
       "         2013-04-04   -0.866025\n",
       "         2013-04-05   -0.763763\n",
       "         2013-04-08    0.654654\n",
       "         2013-04-09    1.000000\n",
       "         2013-04-25         NaN\n",
       "Name: Average_confidence(CONCENTRATING), dtype: float64"
      ]
     },
     "execution_count": 77,
     "metadata": {},
     "output_type": "execute_result"
    }
   ],
   "source": [
    "session_concentrating = df_small.groupby([\"user_id\",\"start_date\"])[\"Average_confidence(CONCENTRATING)\"].apply(\n",
    "    lambda x: np.corrcoef(x,np.arange(len(x)))[0,1])\n",
    "session_concentrating.head(15)"
   ]
  },
  {
   "cell_type": "code",
   "execution_count": 78,
   "metadata": {},
   "outputs": [
    {
     "data": {
      "text/plain": [
       "user_id  start_date\n",
       "21421    2013-05-22         NaN\n",
       "         2013-06-05         NaN\n",
       "24586    2012-10-29    0.037987\n",
       "26046    2013-05-01         NaN\n",
       "26787    2012-12-03         NaN\n",
       "52535    2012-09-06         NaN\n",
       "         2013-01-29         NaN\n",
       "         2013-02-15    0.408248\n",
       "         2013-04-02         NaN\n",
       "         2013-04-03         NaN\n",
       "         2013-04-04         NaN\n",
       "         2013-04-05         NaN\n",
       "         2013-04-08         NaN\n",
       "         2013-04-09         NaN\n",
       "         2013-04-25         NaN\n",
       "Name: Average_confidence(CONFUSED), dtype: float64"
      ]
     },
     "execution_count": 78,
     "metadata": {},
     "output_type": "execute_result"
    }
   ],
   "source": [
    "session_confused = df_small.groupby([\"user_id\",\"start_date\"])[\"Average_confidence(CONFUSED)\"].apply(\n",
    "    lambda x: np.corrcoef(x,np.arange(len(x)))[0,1])\n",
    "session_confused.head(15)"
   ]
  },
  {
   "cell_type": "code",
   "execution_count": 79,
   "metadata": {},
   "outputs": [
    {
     "data": {
      "text/plain": [
       "user_id  start_date\n",
       "21421    2013-05-22   -0.473947\n",
       "         2013-06-05   -0.414039\n",
       "24586    2012-10-29   -0.189934\n",
       "26046    2013-05-01    0.389045\n",
       "26787    2012-12-03         NaN\n",
       "52535    2012-09-06         NaN\n",
       "         2013-01-29         NaN\n",
       "         2013-02-15   -0.417926\n",
       "         2013-04-02    0.774597\n",
       "         2013-04-03   -1.000000\n",
       "         2013-04-04         NaN\n",
       "         2013-04-05         NaN\n",
       "         2013-04-08   -0.207020\n",
       "         2013-04-09   -1.000000\n",
       "         2013-04-25   -1.000000\n",
       "Name: Average_confidence(BORED), dtype: float64"
      ]
     },
     "execution_count": 79,
     "metadata": {},
     "output_type": "execute_result"
    }
   ],
   "source": [
    "session_bored = df_small.groupby([\"user_id\",\"start_date\"])[\"Average_confidence(BORED)\"].apply(\n",
    "    lambda x: np.corrcoef(x,np.arange(len(x)))[0,1])\n",
    "session_bored.head(15)"
   ]
  },
  {
   "cell_type": "code",
   "execution_count": 80,
   "metadata": {},
   "outputs": [
    {
     "data": {
      "text/plain": [
       "user_id  start_date\n",
       "21421    2013-05-22    0.774597\n",
       "         2013-06-05         NaN\n",
       "24586    2012-10-29    0.406181\n",
       "26046    2013-05-01    0.000000\n",
       "26787    2012-12-03         NaN\n",
       "52535    2012-09-06         NaN\n",
       "         2013-01-29         NaN\n",
       "         2013-02-15         NaN\n",
       "         2013-04-02         NaN\n",
       "         2013-04-03         NaN\n",
       "         2013-04-04         NaN\n",
       "         2013-04-05         NaN\n",
       "         2013-04-08         NaN\n",
       "         2013-04-09         NaN\n",
       "         2013-04-25         NaN\n",
       "Name: Average_confidence(FRUSTRATED), dtype: float64"
      ]
     },
     "execution_count": 80,
     "metadata": {},
     "output_type": "execute_result"
    }
   ],
   "source": [
    "session_frustrated = df_small.groupby([\"user_id\",\"start_date\"])[\"Average_confidence(FRUSTRATED)\"].apply(\n",
    "    lambda x: np.corrcoef(x,np.arange(len(x)))[0,1])\n",
    "session_frustrated.head(15)"
   ]
  },
  {
   "cell_type": "code",
   "execution_count": 85,
   "metadata": {},
   "outputs": [
    {
     "data": {
      "text/html": [
       "<div>\n",
       "<style scoped>\n",
       "    .dataframe tbody tr th:only-of-type {\n",
       "        vertical-align: middle;\n",
       "    }\n",
       "\n",
       "    .dataframe tbody tr th {\n",
       "        vertical-align: top;\n",
       "    }\n",
       "\n",
       "    .dataframe thead th {\n",
       "        text-align: right;\n",
       "    }\n",
       "</style>\n",
       "<table border=\"1\" class=\"dataframe\">\n",
       "  <thead>\n",
       "    <tr style=\"text-align: right;\">\n",
       "      <th></th>\n",
       "      <th></th>\n",
       "      <th>Average_confidence(FRUSTRATED)</th>\n",
       "      <th>Average_confidence(BORED)</th>\n",
       "      <th>Average_confidence(CONFUSED)</th>\n",
       "      <th>Average_confidence(CONCENTRATING)</th>\n",
       "      <th>question_time</th>\n",
       "      <th>Number_of_question</th>\n",
       "    </tr>\n",
       "    <tr>\n",
       "      <th>user_id</th>\n",
       "      <th>start_date</th>\n",
       "      <th></th>\n",
       "      <th></th>\n",
       "      <th></th>\n",
       "      <th></th>\n",
       "      <th></th>\n",
       "      <th></th>\n",
       "    </tr>\n",
       "  </thead>\n",
       "  <tbody>\n",
       "    <tr>\n",
       "      <th rowspan=\"2\" valign=\"top\">21421</th>\n",
       "      <th>2013-05-22</th>\n",
       "      <td>0.774597</td>\n",
       "      <td>-0.473947</td>\n",
       "      <td>NaN</td>\n",
       "      <td>0.534795</td>\n",
       "      <td>194.0</td>\n",
       "      <td>4</td>\n",
       "    </tr>\n",
       "    <tr>\n",
       "      <th>2013-06-05</th>\n",
       "      <td>NaN</td>\n",
       "      <td>-0.414039</td>\n",
       "      <td>NaN</td>\n",
       "      <td>0.414039</td>\n",
       "      <td>36.0</td>\n",
       "      <td>6</td>\n",
       "    </tr>\n",
       "    <tr>\n",
       "      <th>24586</th>\n",
       "      <th>2012-10-29</th>\n",
       "      <td>0.406181</td>\n",
       "      <td>-0.189934</td>\n",
       "      <td>0.037987</td>\n",
       "      <td>0.058026</td>\n",
       "      <td>112.0</td>\n",
       "      <td>10</td>\n",
       "    </tr>\n",
       "    <tr>\n",
       "      <th>26046</th>\n",
       "      <th>2013-05-01</th>\n",
       "      <td>0.000000</td>\n",
       "      <td>0.389045</td>\n",
       "      <td>NaN</td>\n",
       "      <td>-0.394399</td>\n",
       "      <td>301.0</td>\n",
       "      <td>14</td>\n",
       "    </tr>\n",
       "    <tr>\n",
       "      <th>26787</th>\n",
       "      <th>2012-12-03</th>\n",
       "      <td>NaN</td>\n",
       "      <td>NaN</td>\n",
       "      <td>NaN</td>\n",
       "      <td>NaN</td>\n",
       "      <td>45.0</td>\n",
       "      <td>1</td>\n",
       "    </tr>\n",
       "  </tbody>\n",
       "</table>\n",
       "</div>"
      ],
      "text/plain": [
       "                    Average_confidence(FRUSTRATED)  Average_confidence(BORED)  \\\n",
       "user_id start_date                                                              \n",
       "21421   2013-05-22                        0.774597                  -0.473947   \n",
       "        2013-06-05                             NaN                  -0.414039   \n",
       "24586   2012-10-29                        0.406181                  -0.189934   \n",
       "26046   2013-05-01                        0.000000                   0.389045   \n",
       "26787   2012-12-03                             NaN                        NaN   \n",
       "\n",
       "                    Average_confidence(CONFUSED)  \\\n",
       "user_id start_date                                 \n",
       "21421   2013-05-22                           NaN   \n",
       "        2013-06-05                           NaN   \n",
       "24586   2012-10-29                      0.037987   \n",
       "26046   2013-05-01                           NaN   \n",
       "26787   2012-12-03                           NaN   \n",
       "\n",
       "                    Average_confidence(CONCENTRATING)  question_time  \\\n",
       "user_id start_date                                                     \n",
       "21421   2013-05-22                           0.534795          194.0   \n",
       "        2013-06-05                           0.414039           36.0   \n",
       "24586   2012-10-29                           0.058026          112.0   \n",
       "26046   2013-05-01                          -0.394399          301.0   \n",
       "26787   2012-12-03                                NaN           45.0   \n",
       "\n",
       "                    Number_of_question  \n",
       "user_id start_date                      \n",
       "21421   2013-05-22                   4  \n",
       "        2013-06-05                   6  \n",
       "24586   2012-10-29                  10  \n",
       "26046   2013-05-01                  14  \n",
       "26787   2012-12-03                   1  "
      ]
     },
     "execution_count": 85,
     "metadata": {},
     "output_type": "execute_result"
    }
   ],
   "source": [
    "df_analysis = pd.concat([session_frustrated,session_bored,session_confused,session_concentrating, session_sum_question_time, session_count],axis = 1)\n",
    "df_analysis.head()"
   ]
  },
  {
   "cell_type": "code",
   "execution_count": 87,
   "metadata": {},
   "outputs": [
    {
     "data": {
      "text/html": [
       "<div>\n",
       "<style scoped>\n",
       "    .dataframe tbody tr th:only-of-type {\n",
       "        vertical-align: middle;\n",
       "    }\n",
       "\n",
       "    .dataframe tbody tr th {\n",
       "        vertical-align: top;\n",
       "    }\n",
       "\n",
       "    .dataframe thead th {\n",
       "        text-align: right;\n",
       "    }\n",
       "</style>\n",
       "<table border=\"1\" class=\"dataframe\">\n",
       "  <thead>\n",
       "    <tr style=\"text-align: right;\">\n",
       "      <th></th>\n",
       "      <th>index</th>\n",
       "      <th>user_id</th>\n",
       "      <th>start_date</th>\n",
       "      <th>Average_confidence(FRUSTRATED)</th>\n",
       "      <th>Average_confidence(BORED)</th>\n",
       "      <th>Average_confidence(CONFUSED)</th>\n",
       "      <th>Average_confidence(CONCENTRATING)</th>\n",
       "      <th>question_time</th>\n",
       "      <th>Number_of_question</th>\n",
       "    </tr>\n",
       "  </thead>\n",
       "  <tbody>\n",
       "    <tr>\n",
       "      <th>0</th>\n",
       "      <td>0</td>\n",
       "      <td>21421</td>\n",
       "      <td>2013-05-22</td>\n",
       "      <td>0.774597</td>\n",
       "      <td>-0.473947</td>\n",
       "      <td>NaN</td>\n",
       "      <td>0.534795</td>\n",
       "      <td>194.0</td>\n",
       "      <td>4</td>\n",
       "    </tr>\n",
       "    <tr>\n",
       "      <th>1</th>\n",
       "      <td>1</td>\n",
       "      <td>21421</td>\n",
       "      <td>2013-06-05</td>\n",
       "      <td>NaN</td>\n",
       "      <td>-0.414039</td>\n",
       "      <td>NaN</td>\n",
       "      <td>0.414039</td>\n",
       "      <td>36.0</td>\n",
       "      <td>6</td>\n",
       "    </tr>\n",
       "    <tr>\n",
       "      <th>2</th>\n",
       "      <td>2</td>\n",
       "      <td>24586</td>\n",
       "      <td>2012-10-29</td>\n",
       "      <td>0.406181</td>\n",
       "      <td>-0.189934</td>\n",
       "      <td>0.037987</td>\n",
       "      <td>0.058026</td>\n",
       "      <td>112.0</td>\n",
       "      <td>10</td>\n",
       "    </tr>\n",
       "    <tr>\n",
       "      <th>3</th>\n",
       "      <td>3</td>\n",
       "      <td>26046</td>\n",
       "      <td>2013-05-01</td>\n",
       "      <td>0.000000</td>\n",
       "      <td>0.389045</td>\n",
       "      <td>NaN</td>\n",
       "      <td>-0.394399</td>\n",
       "      <td>301.0</td>\n",
       "      <td>14</td>\n",
       "    </tr>\n",
       "    <tr>\n",
       "      <th>4</th>\n",
       "      <td>4</td>\n",
       "      <td>26787</td>\n",
       "      <td>2012-12-03</td>\n",
       "      <td>NaN</td>\n",
       "      <td>NaN</td>\n",
       "      <td>NaN</td>\n",
       "      <td>NaN</td>\n",
       "      <td>45.0</td>\n",
       "      <td>1</td>\n",
       "    </tr>\n",
       "  </tbody>\n",
       "</table>\n",
       "</div>"
      ],
      "text/plain": [
       "   index  user_id  start_date  Average_confidence(FRUSTRATED)  \\\n",
       "0      0    21421  2013-05-22                        0.774597   \n",
       "1      1    21421  2013-06-05                             NaN   \n",
       "2      2    24586  2012-10-29                        0.406181   \n",
       "3      3    26046  2013-05-01                        0.000000   \n",
       "4      4    26787  2012-12-03                             NaN   \n",
       "\n",
       "   Average_confidence(BORED)  Average_confidence(CONFUSED)  \\\n",
       "0                  -0.473947                           NaN   \n",
       "1                  -0.414039                           NaN   \n",
       "2                  -0.189934                      0.037987   \n",
       "3                   0.389045                           NaN   \n",
       "4                        NaN                           NaN   \n",
       "\n",
       "   Average_confidence(CONCENTRATING)  question_time  Number_of_question  \n",
       "0                           0.534795          194.0                   4  \n",
       "1                           0.414039           36.0                   6  \n",
       "2                           0.058026          112.0                  10  \n",
       "3                          -0.394399          301.0                  14  \n",
       "4                                NaN           45.0                   1  "
      ]
     },
     "execution_count": 87,
     "metadata": {},
     "output_type": "execute_result"
    }
   ],
   "source": [
    "df_analysis.reset_index(inplace=True)\n",
    "df_analysis.head(5)"
   ]
  },
  {
   "cell_type": "code",
   "execution_count": 88,
   "metadata": {},
   "outputs": [
    {
     "data": {
      "text/plain": [
       "(393362, 9)"
      ]
     },
     "execution_count": 88,
     "metadata": {},
     "output_type": "execute_result"
    }
   ],
   "source": [
    "df_analysis.shape"
   ]
  },
  {
   "cell_type": "markdown",
   "metadata": {},
   "source": [
    "Clean sessions to be 15 minutes at least but cap sessions at an hour."
   ]
  },
  {
   "cell_type": "code",
   "execution_count": 89,
   "metadata": {},
   "outputs": [
    {
     "data": {
      "text/plain": [
       "(390084, 9)"
      ]
     },
     "execution_count": 89,
     "metadata": {},
     "output_type": "execute_result"
    }
   ],
   "source": [
    "df_analysis = df_analysis[df_analysis[\"question_time\"] < 3600 ]\n",
    "df_analysis.shape"
   ]
  },
  {
   "cell_type": "code",
   "execution_count": 90,
   "metadata": {},
   "outputs": [
    {
     "data": {
      "text/plain": [
       "(101885, 9)"
      ]
     },
     "execution_count": 90,
     "metadata": {},
     "output_type": "execute_result"
    }
   ],
   "source": [
    "df_analysis = df_analysis[df_analysis[\"question_time\"] > (60*15) ]\n",
    "df_analysis.shape"
   ]
  },
  {
   "cell_type": "code",
   "execution_count": 91,
   "metadata": {},
   "outputs": [
    {
     "data": {
      "text/html": [
       "<div>\n",
       "<style scoped>\n",
       "    .dataframe tbody tr th:only-of-type {\n",
       "        vertical-align: middle;\n",
       "    }\n",
       "\n",
       "    .dataframe tbody tr th {\n",
       "        vertical-align: top;\n",
       "    }\n",
       "\n",
       "    .dataframe thead th {\n",
       "        text-align: right;\n",
       "    }\n",
       "</style>\n",
       "<table border=\"1\" class=\"dataframe\">\n",
       "  <thead>\n",
       "    <tr style=\"text-align: right;\">\n",
       "      <th></th>\n",
       "      <th>index</th>\n",
       "      <th>user_id</th>\n",
       "      <th>start_date</th>\n",
       "      <th>Average_confidence(FRUSTRATED)</th>\n",
       "      <th>Average_confidence(BORED)</th>\n",
       "      <th>Average_confidence(CONFUSED)</th>\n",
       "      <th>Average_confidence(CONCENTRATING)</th>\n",
       "      <th>question_time</th>\n",
       "      <th>Number_of_question</th>\n",
       "    </tr>\n",
       "  </thead>\n",
       "  <tbody>\n",
       "    <tr>\n",
       "      <th>26</th>\n",
       "      <td>26</td>\n",
       "      <td>61394</td>\n",
       "      <td>2012-10-17</td>\n",
       "      <td>-1.000190e-17</td>\n",
       "      <td>0.360537</td>\n",
       "      <td>0.136850</td>\n",
       "      <td>NaN</td>\n",
       "      <td>2021.0</td>\n",
       "      <td>17</td>\n",
       "    </tr>\n",
       "    <tr>\n",
       "      <th>35</th>\n",
       "      <td>35</td>\n",
       "      <td>61394</td>\n",
       "      <td>2012-12-02</td>\n",
       "      <td>-3.857584e-01</td>\n",
       "      <td>-0.349685</td>\n",
       "      <td>0.154303</td>\n",
       "      <td>NaN</td>\n",
       "      <td>917.0</td>\n",
       "      <td>13</td>\n",
       "    </tr>\n",
       "    <tr>\n",
       "      <th>41</th>\n",
       "      <td>41</td>\n",
       "      <td>61394</td>\n",
       "      <td>2013-01-04</td>\n",
       "      <td>0.000000e+00</td>\n",
       "      <td>0.049573</td>\n",
       "      <td>NaN</td>\n",
       "      <td>0.0</td>\n",
       "      <td>1010.0</td>\n",
       "      <td>20</td>\n",
       "    </tr>\n",
       "    <tr>\n",
       "      <th>42</th>\n",
       "      <td>42</td>\n",
       "      <td>61394</td>\n",
       "      <td>2013-01-11</td>\n",
       "      <td>NaN</td>\n",
       "      <td>-0.083575</td>\n",
       "      <td>NaN</td>\n",
       "      <td>0.0</td>\n",
       "      <td>957.0</td>\n",
       "      <td>7</td>\n",
       "    </tr>\n",
       "    <tr>\n",
       "      <th>54</th>\n",
       "      <td>54</td>\n",
       "      <td>61394</td>\n",
       "      <td>2013-08-20</td>\n",
       "      <td>-2.279212e-01</td>\n",
       "      <td>0.103751</td>\n",
       "      <td>-0.385758</td>\n",
       "      <td>NaN</td>\n",
       "      <td>964.0</td>\n",
       "      <td>13</td>\n",
       "    </tr>\n",
       "  </tbody>\n",
       "</table>\n",
       "</div>"
      ],
      "text/plain": [
       "    index  user_id  start_date  Average_confidence(FRUSTRATED)  \\\n",
       "26     26    61394  2012-10-17                   -1.000190e-17   \n",
       "35     35    61394  2012-12-02                   -3.857584e-01   \n",
       "41     41    61394  2013-01-04                    0.000000e+00   \n",
       "42     42    61394  2013-01-11                             NaN   \n",
       "54     54    61394  2013-08-20                   -2.279212e-01   \n",
       "\n",
       "    Average_confidence(BORED)  Average_confidence(CONFUSED)  \\\n",
       "26                   0.360537                      0.136850   \n",
       "35                  -0.349685                      0.154303   \n",
       "41                   0.049573                           NaN   \n",
       "42                  -0.083575                           NaN   \n",
       "54                   0.103751                     -0.385758   \n",
       "\n",
       "    Average_confidence(CONCENTRATING)  question_time  Number_of_question  \n",
       "26                                NaN         2021.0                  17  \n",
       "35                                NaN          917.0                  13  \n",
       "41                                0.0         1010.0                  20  \n",
       "42                                0.0          957.0                   7  \n",
       "54                                NaN          964.0                  13  "
      ]
     },
     "execution_count": 91,
     "metadata": {},
     "output_type": "execute_result"
    }
   ],
   "source": [
    "df_analysis.head()"
   ]
  },
  {
   "cell_type": "code",
   "execution_count": 94,
   "metadata": {},
   "outputs": [
    {
     "name": "stderr",
     "output_type": "stream",
     "text": [
      "/usr/local/lib/python3.6/dist-packages/numpy/lib/histograms.py:746: RuntimeWarning: invalid value encountered in greater_equal\n",
      "  keep = (tmp_a >= first_edge)\n",
      "/usr/local/lib/python3.6/dist-packages/numpy/lib/histograms.py:747: RuntimeWarning: invalid value encountered in less_equal\n",
      "  keep &= (tmp_a <= last_edge)\n"
     ]
    },
    {
     "data": {
      "image/png": "[encoded data removed]",
      "text/plain": [
       "<Figure size 432x288 with 1 Axes>"
      ]
     },
     "metadata": {
      "needs_background": "light"
     },
     "output_type": "display_data"
    }
   ],
   "source": [
    "import matplotlib.pyplot as plt\n",
    "%matplotlib inline\n",
    "plt.hist(df_analysis[\"Average_confidence(BORED)\"])\n",
    "plt.show()"
   ]
  },
  {
   "cell_type": "code",
   "execution_count": 95,
   "metadata": {},
   "outputs": [
    {
     "data": {
      "image/png": "[encoded data removed]",
      "text/plain": [
       "<Figure size 432x288 with 1 Axes>"
      ]
     },
     "metadata": {
      "needs_background": "light"
     },
     "output_type": "display_data"
    }
   ],
   "source": [
    "plt.hist(df_analysis[\"Average_confidence(CONCENTRATING)\"])\n",
    "plt.show()"
   ]
  },
  {
   "cell_type": "code",
   "execution_count": 97,
   "metadata": {},
   "outputs": [
    {
     "data": {
      "image/png": "[encoded data removed]",
      "text/plain": [
       "<Figure size 432x288 with 1 Axes>"
      ]
     },
     "metadata": {
      "needs_background": "light"
     },
     "output_type": "display_data"
    }
   ],
   "source": [
    "plt.hist(df_analysis[\"Average_confidence(CONFUSED)\"])\n",
    "plt.show()"
   ]
  },
  {
   "cell_type": "code",
   "execution_count": 96,
   "metadata": {},
   "outputs": [
    {
     "data": {
      "image/png": "[encoded data removed]",
      "text/plain": [
       "<Figure size 432x288 with 1 Axes>"
      ]
     },
     "metadata": {
      "needs_background": "light"
     },
     "output_type": "display_data"
    }
   ],
   "source": [
    "plt.hist(df_analysis[\"Average_confidence(FRUSTRATED)\"])\n",
    "plt.show()"
   ]
  },
  {
   "cell_type": "markdown",
   "metadata": {},
   "source": [
    "NOTES FOR NEXT SESSION: \n",
    "Parse out the different response times for the actions and then plot to see if response times get significantly longer as the session progresses.\n",
    "Start analysis on the affect detectors and the amount of time that it's taking throughout a session. Then bin the data to see more easily with standard error bars and means for each column. \n",
    "\n",
    "Try to clean through amount of questions and amount of time\n"
   ]
  },
  {
   "cell_type": "code",
   "execution_count": 65,
   "metadata": {},
   "outputs": [
    {
     "data": {
      "text/plain": [
       "-0.4160251471689218"
      ]
     },
     "execution_count": 65,
     "metadata": {},
     "output_type": "execute_result"
    }
   ],
   "source": [
    "np.corrcoef([1,2,0,-1,1],[1,2,3,4,5])[0,1]"
   ]
  },
  {
   "cell_type": "code",
   "execution_count": 67,
   "metadata": {},
   "outputs": [
    {
     "data": {
      "text/plain": [
       "array([0, 1, 2, 3, 4])"
      ]
     },
     "execution_count": 67,
     "metadata": {},
     "output_type": "execute_result"
    }
   ],
   "source": [
    "np.arange(5)"
   ]
  },
  {
   "cell_type": "code",
   "execution_count": null,
   "metadata": {},
   "outputs": [],
   "source": []
  }
 ],
 "metadata": {
  "kernelspec": {
   "display_name": "Python 3",
   "language": "python",
   "name": "python3"
  },
  "language_info": {
   "codemirror_mode": {
    "name": "ipython",
    "version": 3
   },
   "file_extension": ".py",
   "mimetype": "text/x-python",
   "name": "python",
   "nbconvert_exporter": "python",
   "pygments_lexer": "ipython3",
   "version": "3.6.6"
  }
 },
 "nbformat": 4,
 "nbformat_minor": 2
}
